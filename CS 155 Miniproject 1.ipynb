{
 "cells": [
  {
   "cell_type": "markdown",
   "metadata": {},
   "source": [
    "# Kaggle Miniproject 1"
   ]
  },
  {
   "cell_type": "markdown",
   "metadata": {},
   "source": [
    "## Team Members:\n",
    "### Karthik Karnik\n",
    "### Anvita Mishra\n",
    "### Kapil Sinha"
   ]
  },
  {
   "cell_type": "code",
   "execution_count": 1,
   "metadata": {},
   "outputs": [
    {
     "name": "stderr",
     "output_type": "stream",
     "text": [
      "/home/kapil/anaconda3/lib/python3.6/site-packages/h5py/__init__.py:36: FutureWarning: Conversion of the second argument of issubdtype from `float` to `np.floating` is deprecated. In future, it will be treated as `np.float64 == np.dtype(float).type`.\n",
      "  from ._conv import register_converters as _register_converters\n",
      "Using TensorFlow backend.\n"
     ]
    }
   ],
   "source": [
    "import numpy as np\n",
    "import matplotlib.pyplot as plt\n",
    "\n",
    "from keras.models import Sequential\n",
    "from keras.layers import Dense\n",
    "from keras.layers import Dropout, Conv2D, MaxPooling2D, BatchNormalization, Activation\n",
    "from sklearn import tree, base\n",
    "from sklearn.ensemble import RandomForestClassifier\n",
    "from sklearn.model_selection import train_test_split"
   ]
  },
  {
   "cell_type": "code",
   "execution_count": 2,
   "metadata": {
    "collapsed": true
   },
   "outputs": [],
   "source": [
    "with open(\"training_data.txt\") as f:\n",
    "    words = f.readline().split(' ')\n",
    "training_data = np.loadtxt(\"training_data.txt\", skiprows = 1)\n",
    "test_data = np.loadtxt(\"test_data.txt\", skiprows = 1)"
   ]
  },
  {
   "cell_type": "code",
   "execution_count": 3,
   "metadata": {
    "collapsed": true
   },
   "outputs": [],
   "source": [
    "unprocessed_x_train_original = training_data[:, 1:]\n",
    "y_train_original = training_data[:, 0]"
   ]
  },
  {
   "cell_type": "code",
   "execution_count": 4,
   "metadata": {},
   "outputs": [
    {
     "data": {
      "image/png": "[encoded data removed]",
      "text/plain": [
       "<matplotlib.figure.Figure at 0x7fe7f01ab2e8>"
      ]
     },
     "metadata": {},
     "output_type": "display_data"
    },
    {
     "data": {
      "image/png": "[encoded data removed]",
      "text/plain": [
       "<matplotlib.figure.Figure at 0x7fe7e4f320b8>"
      ]
     },
     "metadata": {},
     "output_type": "display_data"
    }
   ],
   "source": [
    "# Making pretty plots...not for use in submission\n",
    "bad_reviews = unprocessed_x_train_original[(np.where(y_train_original == 0)[0])]\n",
    "good_reviews = unprocessed_x_train_original[(np.where(y_train_original == 1)[0])]\n",
    "# counts are sum of elements in columns\n",
    "bad_word_counts = np.sum(bad_reviews, axis = 0)\n",
    "good_word_counts = np.sum(good_reviews, axis = 0)\n",
    "#print(len(bad_word_counts))\n",
    "#print(len(good_word_counts))\n",
    "\n",
    "plt.clf()\n",
    "plt.title(\"Word count in good reviews\")\n",
    "plt.bar(np.arange(len(words) - 1), good_word_counts, log=True, label=\"Good review word count\")\n",
    "plt.xlabel(\"Word number (index in list of words)\")\n",
    "plt.ylabel(\"Word count\")\n",
    "plt.legend()\n",
    "plt.show()\n",
    "\n",
    "plt.title(\"Word count in bad reviews\")\n",
    "plt.bar(np.arange(len(words) - 1), bad_word_counts, log=True, label=\"Bad review word count\")\n",
    "plt.xlabel(\"Word number (index in list of words)\")\n",
    "plt.ylabel(\"Word count\")\n",
    "plt.legend()\n",
    "plt.show()"
   ]
  },
  {
   "cell_type": "code",
   "execution_count": 5,
   "metadata": {},
   "outputs": [
    {
     "name": "stdout",
     "output_type": "stream",
     "text": [
      "Number of neutral words:  54\n",
      "Neutral words:  ['way' 'comment' 'moment' 'book' 'sit' 'depth' 'one' 'univers' 'grade'\n",
      " 'arriv' 'saw' 'section' 'head' 'word' 'leav' 'sinc' 'may' 'right' 'metal'\n",
      " 'written' 'dure' 'mani' 'fight' 'lead' 'white' 'realli' '20' 'ever'\n",
      " 'need' 'standard' 'possibl' 'hero' 'handl' 'far' 'tell' 'differ' 'usual'\n",
      " 'next' 'often' 'across' 'wish' 'explain' 'without' 'quit' 'later' 'whole'\n",
      " 'local' 'fire' 'absolut' 'hous' 'around' 'horror' 'somewhat' 'similar']\n",
      "Number of good words:  415\n",
      "Good words sorted in order from really good to good:  ['awesom' 'excel' 'fantast' 'perfect' 'highli' 'amaz' 'solid' 'uniqu'\n",
      " 'captur' 'perfectli' 'hobbit' 'delight' 'batman' 'adventur' 'tivo'\n",
      " 'favorit' 'beauti' 'great' 'fascin' 'bibl' 'easi' 'appreci' 'best'\n",
      " 'famili' 'journey' 'brilliant' 'love' 'heart' 'charm' 'inspir' 'jazz'\n",
      " 'lover' 'fun' 'masterpiec' 'condit' 'wonder' 'soul' 'rock' 'complaint'\n",
      " 'combin' 'town' 'eragon' 'tolkien' 'young' 'grow' 'tale' 'human' 'age'\n",
      " 'enjoy' 'classic' 'world' 'father' 'comfort' 'collect' 'definit' 'lesson'\n",
      " 'sweet' 'deep' 'mom' 'dream' 'touch' 'must' 'share' 'greatest' 'album'\n",
      " 'illustr' 'quick' 'entertain' 'histori' 'summer' 'satisfi' 'magic' 'de'\n",
      " 'truli' 'cultur' 'faith' 'bring' 'shoe' 'alway' 'vocal' 'eye' 'strong'\n",
      " 'natur' 'earli' 'trip' 'everyon' 'glad' 'relationship' 'defin' 'beat'\n",
      " 'emot' 'wow' 'fiction' 'abil' 'travel' 'life' 'live' 'hook' 'simpl'\n",
      " 'recommend' 'gift' 'thank' 'guitar' 'today' 'danc' 'happi' 'romanc' 'job'\n",
      " 'brought' 'fast' 'centuri' 'especi' 'cool' 'master' 'literatur' 'sister'\n",
      " 'lyric' 'music' 'season' 'portray' 'knowledg' 'rememb' 'death' 'tune'\n",
      " 'well' 'surpris' 'histor' 'manag' 'mysteri' 'challeng' 'modern' 'insight'\n",
      " 'cd' 'listen' 'struggl' 'cat' 'ring' 'exactli' 'twist' 'genr' 'adult'\n",
      " 'clay' 'anim' 'learn' 'scienc' 'help' 'bit' 'nice' 'critic' 'song'\n",
      " 'studi' 'relat' 'prove' 'power' 'becom' 'futur' 'super' 'along' 'rang'\n",
      " 'georg' 'carri' 'detail' 'incred' 'practic' 'aspect' 'plan' 'pack' 'tool'\n",
      " 'add' 'yet' 'la' 'success' 'friend' 'john' 'havent' 'theme' 'suspens'\n",
      " 'secret' 'remind' 'import' 'man' 'voic' 'guid' 'christma' 'true'\n",
      " 'societi' 'home' 'warm' 'america' 'track' 'heavi' 'price' 'rice' 'wife'\n",
      " 'art' 'cri' 'still' 'us' 'ago' 'band' 'hi' 'concert' 'christian' 'laugh'\n",
      " 'room' 'measur' 'valu' 'imagin' 'cast' 'keep' 'brother' 'deal' 'also'\n",
      " 'provid' 'involv' 'everi' 'rare' 'husband' 'deliv' 'alot' 'easili'\n",
      " 'parent' 'night' 'anyon' 'group' 'build' 'colleg' 'includ' 'seri' 'stand'\n",
      " 'son' 'fantasi' 'daughter' 'introduct' 'addit' 'year' 'children' 'teach'\n",
      " 'girl' 'creat' 'youll' 'citi' 'artist' 'togeth' 'boy' 'event' 'overal'\n",
      " 'unlik' 'edg' 'experi' 'accur' 'sing' 'men' 'memori' 'littl' 'although'\n",
      " 'talent' 'battl' 'background' 'reader' 'treat' 'hot' 'action' 'read'\n",
      " 'form' 'mother' 'offic' 'knew' 'cours' 'war' 'dark' 'good' 'humor' 'meet'\n",
      " 'show' 'busi' 'teenag' 'clear' 'perform' 'refer' 'though' 'air' 'hit'\n",
      " 'set' 'step' 'god' 'period' 'singer' 'onc' 'choic' 'person' 'stori'\n",
      " 'tire' 'student' 'pure' 'murder' 'american' 'improv' 'bodi' 'forev'\n",
      " 'countri' 'lord' 'level' 'account' 'begin' 'late' 'soon' 'five' 'present'\n",
      " 'heard' 'recent' 'evil' 'youv' 'describ' 'pop' 'funni' 'light' 'roll'\n",
      " 'area' 'day' 'truth' 'mix' 'question' 'volum' 'adapt' 'discov' 'current'\n",
      " 'sometim' 'put' 'women' 'pair' 'fli' 'play' 'understand' 'school'\n",
      " 'throughout' 'known' 'push' 'featur' 'role' 'chang' 'behind' 'lot'\n",
      " 'clean' 'older' 'style' 'quickli' 'allow' 'train' 'ha' 'view' 'polit'\n",
      " 'toward' 'abl' 'fan' 'translat' 'cute' 'control' 'attent' 'ball' 'face'\n",
      " 'drive' 'interest' 'ive' 'everyth' 'kid' 'veri' 'alon' 'extra' 'car'\n",
      " 'blue' 'teacher' 'feel' 'continu' 'comedi' 'novel' 'final' 'ms' 'doubt'\n",
      " 'place' 'ad' 'plu' 'find' 'pick' 'comic' 'came' 'hand' 'typic' 'process'\n",
      " 'done' 'mind' 'sleep' 'forget' 'soundtrack' 'past' 'top' 'dog' 'wear'\n",
      " 'theyr' 'follow' 'worth' 'hear' 'move' 'earth' 'red' 'come' 'old'\n",
      " 'record' 'take' 'radio' 'first' 'chanc' 'librari' 'new' 'cook']\n",
      "Number of bad words:  531\n",
      "Bad words sorted in order from bad to really bad:  ['inform' 'project' 'photo' 'direct' 'upon' 'forward' 'type' 'impress'\n",
      " 'middl' 'toy' 'troubl' 'seen' 'store' 'select' 'note' 'real' 'watch'\n",
      " 'small' 'requir' 'issu' 'three' 'start' 'class' 'give' 'make' 'topic'\n",
      " 'creativ' 'size' 'goe' 'sequel' 'four' 'peopl' 'system' 'whether' 'time'\n",
      " 'charact' 'pretti' 'test' 'gener' 'straight' 'develop' 'see' 'part' 'use'\n",
      " 'coupl' 'opinion' 'open' 'insid' 'long' 'compar' 'simpli' 'excit' 'film'\n",
      " 'full' 'stuff' 'singl' 'work' 'becam' 'episod' 'thi' 'exist' 'flick'\n",
      " 'research' 'think' 'woman' 'matter' 'answer' 'sever' 'fit' 'prefer' 'due'\n",
      " 'like' 'cover' 'certainli' 'wait' 'color' 'game' 'big' 'run' 'know'\n",
      " 'loud' 'plug' 'black' 'subject' 'special' 'space' 'morn' 'case' 'larg'\n",
      " 'walk' 'end' 'hold' 'french' 'seriou' 'sad' 'releas' 'self' '50'\n",
      " 'languag' 'certain' 'movi' 'regular' 'transfer' 'except' 'limit' 'search'\n",
      " 'babi' 'check' 'mark' 'close' 'messag' 'found' 'fall' 'want' 'particular'\n",
      " 'hard' 'video' 'instal' 'bag' 'king' 'realiz' 'child' 'beyond' 'mean'\n",
      " 'anyway' 'skin' 'fine' 'second' 'cant' 'fill' 'tv' 'befor' '100'\n",
      " 'english' 'pull' 'almost' 'date' 'go' '30' 'nearli' 'mine' 'offer' '10'\n",
      " 'within' 'taken' 'ask' 'writer' 'contain' 'text' 'reason' 'say' 'high'\n",
      " 'probabl' 'immedi' 'result' 'look' 'dead' 'decid' 'sound' 'despit' 'sure'\n",
      " 'arent' 'ye' 'took' 'kind' 'doe' 'origin' 'speak' 'ten\\n' 'weight'\n",
      " 'public' 'id' 'last' 'thing' 'effort' 'guy' 'kept' 'admit' 'alreadi'\n",
      " 'ani' 'given' 'wont' 'becaus' 'actor' 'short' 'purchas' 'market' 'get'\n",
      " 'figur' 'back' 'deserv' 'onlin' 'bed' 'lose' 'enough' 'two' 'got' 'much'\n",
      " 'disc' 'hair' 'michael' 'option' 'cabl' 'side' 'rest' 'im' 'name' 'front'\n",
      " 'anoth' 'effect' 'coffe' '12' 'base' 'fact' 'scari' 'howev' 'etc' 'line'\n",
      " 'mr' 'mostli' 'longer' 'pass' 'brand' 'turn' 'sens' 'product' 'finish'\n",
      " 'consid' 'imag' 'main' 'made' 'respect' 'dvd' 'window' 'pictur' 'write'\n",
      " 'better' 'notic' 'suggest' 'believ' 'posit' 'scene' 'themselv' 'packag'\n",
      " 'free' 'screen' 'felt' 'away' 'descript' 'avail' 'list' 'never' 'produc'\n",
      " 'drop' 'less' 'thought' 'wa' 'onli' 'star' 'bought' 'graphic' 'near'\n",
      " 'break' '15' 'sourc' 'stay' 'program' 'caus' 'player' 'titl' 'materi'\n",
      " 'director' 'instruct' 'jam' 'major' 'hell' 'hope' 'sex' 'clearli' 'said'\n",
      " 'stone' 'entir' 'dri' 'basic' 'pleas' 'sort' 'servic' 'hour' 'someon'\n",
      " 'exampl' 'lost' 'week' 'could' 'difficult' 'number' 'previou' 'would'\n",
      " 'connect' 'storylin' 'might' 'told' 'wrote' 'author' 'shot' 'agre' 'ship'\n",
      " 'gave' 'twice' 'order' 'cup' 'card' 'averag' 'someth' 'state' 'piec'\n",
      " 'point' 'review' 'switch' 'gone' 'miss' 'kill' 'extrem' 'expect' 'water'\n",
      " 'digit' 'smell' 'happen' 'actual' 'rate' 'model' 'act' 'bluray' 'ear'\n",
      " 'idea' 'jump' 'even' 'problem' 'chapter' 'normal' 'pain' 'copi' 'went'\n",
      " 'die' 'anyth' 'oh' 'button' 'concept' 'mention' 'call' 'month' 'isnt'\n",
      " 'otherwis' 'let' 'tast' 'stop' 'qualiti' 'buy' 'expens' 'amount' 'remov'\n",
      " 'couldnt' 'forc' 'thin' 'talk' 'amazon' 'rather' 'appear' 'low' 'cut'\n",
      " 'seem' 'third' 'fell' 'comput' 'pamper' 'version' 'seller' 'apart'\n",
      " 'replac' 'green' 'support' 'content' 'unit' 'correct' 'ill' 'els'\n",
      " 'diaper' 'slow' 'care' 'huge' 'cannot' 'guess' 'spent' 'batteri' 'shock'\n",
      " 'whi' 'doesnt' 'tape' 'design' 'edit' 'advic' 'perhap' 'repeat' 'audio'\n",
      " 'receiv' 'bottom' 'decent' 'page' 'total' 'wasnt' 'predict' 'least'\n",
      " 'credit' 'weak' 'plot' 'dialogu' 'wrong' 'left' 'tri' 'ann' 'confus'\n",
      " 'hollywood' 'soni' 'devic' 'burn' 'dont' 'minut' 'format' 'cost' 'either'\n",
      " 'complet' 'kindl' 'imposs' 'obvious' 'didnt' 'bunch' 'softwar' 'spend'\n",
      " 'box' 'machin' 'camera' 'half' 'mayb' 'okay' 'advertis' 'leak' 'item'\n",
      " 'print' 'plastic' 'script' 'garbag' 'hate' 'save' 'suppos' 'keurig'\n",
      " 'compani' 'warn' 'broken' 'mistak' 'serious' 'flat' 'plain' 'blade'\n",
      " 'stick' 'custom' 'halloween' 'stuck' 'throw' 'ruin' 'instead' 'phone'\n",
      " 'ok' 'paid' 'charg' 'wouldnt' 'pay' 'cheap' 'dissapoint' 'sent' 'lack'\n",
      " 'frustrat' 'none' 'publish' 'send' 'vh' 'fix' 'noth' 'attempt' 'claim'\n",
      " 'sell' 'skip' 'rip' 'rent' 'shame' 'bad' 'broke' 'unfortun' 'bare'\n",
      " 'annoy' 'paper' 'printer' 'avoid' 'sorri' 'fail' 'mess' 'money' 'return'\n",
      " 'bother' 'contact' 'joke' 'disappoint' 'suck' 'bewar' 'unless' 'stupid'\n",
      " 'error' 'dull' 'bore' 'ridicul' 'trash' 'terribl' 'poor' 'wors' 'useless'\n",
      " 'horribl' 'crap' 'worst' 'junk' 'aw' 'wast' 'poorli' 'refund']\n",
      "Number of charged words:  946\n",
      "Charged words sorted in order from good to bad:  ['awesom' 'excel' 'fantast' 'perfect' 'highli' 'amaz' 'solid' 'uniqu'\n",
      " 'captur' 'perfectli' 'hobbit' 'delight' 'batman' 'adventur' 'tivo'\n",
      " 'favorit' 'beauti' 'great' 'fascin' 'bibl' 'easi' 'appreci' 'best'\n",
      " 'famili' 'journey' 'brilliant' 'love' 'heart' 'charm' 'inspir' 'jazz'\n",
      " 'lover' 'fun' 'masterpiec' 'condit' 'wonder' 'soul' 'rock' 'complaint'\n",
      " 'combin' 'town' 'eragon' 'tolkien' 'young' 'grow' 'tale' 'human' 'age'\n",
      " 'enjoy' 'classic' 'world' 'father' 'comfort' 'collect' 'definit' 'lesson'\n",
      " 'sweet' 'deep' 'mom' 'dream' 'touch' 'must' 'share' 'greatest' 'album'\n",
      " 'illustr' 'quick' 'entertain' 'histori' 'summer' 'satisfi' 'magic' 'de'\n",
      " 'truli' 'cultur' 'faith' 'bring' 'shoe' 'alway' 'vocal' 'eye' 'strong'\n",
      " 'natur' 'earli' 'trip' 'everyon' 'glad' 'relationship' 'defin' 'beat'\n",
      " 'emot' 'wow' 'fiction' 'abil' 'travel' 'life' 'live' 'hook' 'simpl'\n",
      " 'recommend' 'gift' 'thank' 'guitar' 'today' 'danc' 'happi' 'romanc' 'job'\n",
      " 'brought' 'fast' 'centuri' 'especi' 'cool' 'master' 'literatur' 'sister'\n",
      " 'lyric' 'music' 'season' 'portray' 'knowledg' 'rememb' 'death' 'tune'\n",
      " 'well' 'surpris' 'histor' 'manag' 'mysteri' 'challeng' 'modern' 'insight'\n",
      " 'cd' 'listen' 'struggl' 'cat' 'ring' 'exactli' 'twist' 'genr' 'adult'\n",
      " 'clay' 'anim' 'learn' 'scienc' 'help' 'bit' 'nice' 'critic' 'song'\n",
      " 'studi' 'relat' 'prove' 'power' 'becom' 'futur' 'super' 'along' 'rang'\n",
      " 'georg' 'carri' 'detail' 'incred' 'practic' 'aspect' 'plan' 'pack' 'tool'\n",
      " 'add' 'yet' 'la' 'success' 'friend' 'john' 'havent' 'theme' 'suspens'\n",
      " 'secret' 'remind' 'import' 'man' 'voic' 'guid' 'christma' 'true'\n",
      " 'societi' 'home' 'warm' 'america' 'track' 'heavi' 'price' 'rice' 'wife'\n",
      " 'art' 'cri' 'still' 'us' 'ago' 'band' 'hi' 'concert' 'christian' 'laugh'\n",
      " 'room' 'measur' 'valu' 'imagin' 'cast' 'keep' 'brother' 'deal' 'also'\n",
      " 'provid' 'involv' 'everi' 'rare' 'husband' 'deliv' 'alot' 'easili'\n",
      " 'parent' 'night' 'anyon' 'group' 'build' 'colleg' 'includ' 'seri' 'stand'\n",
      " 'son' 'fantasi' 'daughter' 'introduct' 'addit' 'year' 'children' 'teach'\n",
      " 'girl' 'creat' 'youll' 'citi' 'artist' 'togeth' 'boy' 'event' 'overal'\n",
      " 'unlik' 'edg' 'experi' 'accur' 'sing' 'men' 'memori' 'littl' 'although'\n",
      " 'talent' 'battl' 'background' 'reader' 'treat' 'hot' 'action' 'read'\n",
      " 'form' 'mother' 'offic' 'knew' 'cours' 'war' 'dark' 'good' 'humor' 'meet'\n",
      " 'show' 'busi' 'teenag' 'clear' 'perform' 'refer' 'though' 'air' 'hit'\n",
      " 'set' 'step' 'god' 'period' 'singer' 'onc' 'choic' 'person' 'stori'\n",
      " 'tire' 'student' 'pure' 'murder' 'american' 'improv' 'bodi' 'forev'\n",
      " 'countri' 'lord' 'level' 'account' 'begin' 'late' 'soon' 'five' 'present'\n",
      " 'heard' 'recent' 'evil' 'youv' 'describ' 'pop' 'funni' 'light' 'roll'\n",
      " 'area' 'day' 'truth' 'mix' 'question' 'volum' 'adapt' 'discov' 'current'\n",
      " 'sometim' 'put' 'women' 'pair' 'fli' 'play' 'understand' 'school'\n",
      " 'throughout' 'known' 'push' 'featur' 'role' 'chang' 'behind' 'lot'\n",
      " 'clean' 'older' 'style' 'quickli' 'allow' 'train' 'ha' 'view' 'polit'\n",
      " 'toward' 'abl' 'fan' 'translat' 'cute' 'control' 'attent' 'ball' 'face'\n",
      " 'drive' 'interest' 'ive' 'everyth' 'kid' 'veri' 'alon' 'extra' 'car'\n",
      " 'blue' 'teacher' 'feel' 'continu' 'comedi' 'novel' 'final' 'ms' 'doubt'\n",
      " 'place' 'ad' 'plu' 'find' 'pick' 'comic' 'came' 'hand' 'typic' 'process'\n",
      " 'done' 'mind' 'sleep' 'forget' 'soundtrack' 'past' 'top' 'dog' 'wear'\n",
      " 'theyr' 'follow' 'worth' 'hear' 'move' 'earth' 'red' 'come' 'old'\n",
      " 'record' 'take' 'radio' 'first' 'chanc' 'librari' 'new' 'cook' 'inform'\n",
      " 'project' 'photo' 'direct' 'upon' 'forward' 'type' 'impress' 'middl'\n",
      " 'toy' 'troubl' 'seen' 'store' 'select' 'note' 'real' 'watch' 'small'\n",
      " 'requir' 'issu' 'three' 'start' 'class' 'give' 'make' 'topic' 'creativ'\n",
      " 'size' 'goe' 'sequel' 'four' 'peopl' 'system' 'whether' 'time' 'charact'\n",
      " 'pretti' 'test' 'gener' 'straight' 'develop' 'see' 'part' 'use' 'coupl'\n",
      " 'opinion' 'open' 'insid' 'long' 'compar' 'simpli' 'excit' 'film' 'full'\n",
      " 'stuff' 'singl' 'work' 'becam' 'episod' 'thi' 'exist' 'flick' 'research'\n",
      " 'think' 'woman' 'matter' 'answer' 'sever' 'fit' 'prefer' 'due' 'like'\n",
      " 'cover' 'certainli' 'wait' 'color' 'game' 'big' 'run' 'know' 'loud'\n",
      " 'plug' 'black' 'subject' 'special' 'space' 'morn' 'case' 'larg' 'walk'\n",
      " 'end' 'hold' 'french' 'seriou' 'sad' 'releas' 'self' '50' 'languag'\n",
      " 'certain' 'movi' 'regular' 'transfer' 'except' 'limit' 'search' 'babi'\n",
      " 'check' 'mark' 'close' 'messag' 'found' 'fall' 'want' 'particular' 'hard'\n",
      " 'video' 'instal' 'bag' 'king' 'realiz' 'child' 'beyond' 'mean' 'anyway'\n",
      " 'skin' 'fine' 'second' 'cant' 'fill' 'tv' 'befor' '100' 'english' 'pull'\n",
      " 'almost' 'date' 'go' '30' 'nearli' 'mine' 'offer' '10' 'within' 'taken'\n",
      " 'ask' 'writer' 'contain' 'text' 'reason' 'say' 'high' 'probabl' 'immedi'\n",
      " 'result' 'look' 'dead' 'decid' 'sound' 'despit' 'sure' 'arent' 'ye'\n",
      " 'took' 'kind' 'doe' 'origin' 'speak' 'ten\\n' 'weight' 'public' 'id'\n",
      " 'last' 'thing' 'effort' 'guy' 'kept' 'admit' 'alreadi' 'ani' 'given'\n",
      " 'wont' 'becaus' 'actor' 'short' 'purchas' 'market' 'get' 'figur' 'back'\n",
      " 'deserv' 'onlin' 'bed' 'lose' 'enough' 'two' 'got' 'much' 'disc' 'hair'\n",
      " 'michael' 'option' 'cabl' 'side' 'rest' 'im' 'name' 'front' 'anoth'\n",
      " 'effect' 'coffe' '12' 'base' 'fact' 'scari' 'howev' 'etc' 'line' 'mr'\n",
      " 'mostli' 'longer' 'pass' 'brand' 'turn' 'sens' 'product' 'finish'\n",
      " 'consid' 'imag' 'main' 'made' 'respect' 'dvd' 'window' 'pictur' 'write'\n",
      " 'better' 'notic' 'suggest' 'believ' 'posit' 'scene' 'themselv' 'packag'\n",
      " 'free' 'screen' 'felt' 'away' 'descript' 'avail' 'list' 'never' 'produc'\n",
      " 'drop' 'less' 'thought' 'wa' 'onli' 'star' 'bought' 'graphic' 'near'\n",
      " 'break' '15' 'sourc' 'stay' 'program' 'caus' 'player' 'titl' 'materi'\n",
      " 'director' 'instruct' 'jam' 'major' 'hell' 'hope' 'sex' 'clearli' 'said'\n",
      " 'stone' 'entir' 'dri' 'basic' 'pleas' 'sort' 'servic' 'hour' 'someon'\n",
      " 'exampl' 'lost' 'week' 'could' 'difficult' 'number' 'previou' 'would'\n",
      " 'connect' 'storylin' 'might' 'told' 'wrote' 'author' 'shot' 'agre' 'ship'\n",
      " 'gave' 'twice' 'order' 'cup' 'card' 'averag' 'someth' 'state' 'piec'\n",
      " 'point' 'review' 'switch' 'gone' 'miss' 'kill' 'extrem' 'expect' 'water'\n",
      " 'digit' 'smell' 'happen' 'actual' 'rate' 'model' 'act' 'bluray' 'ear'\n",
      " 'idea' 'jump' 'even' 'problem' 'chapter' 'normal' 'pain' 'copi' 'went'\n",
      " 'die' 'anyth' 'oh' 'button' 'concept' 'mention' 'call' 'month' 'isnt'\n",
      " 'otherwis' 'let' 'tast' 'stop' 'qualiti' 'buy' 'expens' 'amount' 'remov'\n",
      " 'couldnt' 'forc' 'thin' 'talk' 'amazon' 'rather' 'appear' 'low' 'cut'\n",
      " 'seem' 'third' 'fell' 'comput' 'pamper' 'version' 'seller' 'apart'\n",
      " 'replac' 'green' 'support' 'content' 'unit' 'correct' 'ill' 'els'\n",
      " 'diaper' 'slow' 'care' 'huge' 'cannot' 'guess' 'spent' 'batteri' 'shock'\n",
      " 'whi' 'doesnt' 'tape' 'design' 'edit' 'advic' 'perhap' 'repeat' 'audio'\n",
      " 'receiv' 'bottom' 'decent' 'page' 'total' 'wasnt' 'predict' 'least'\n",
      " 'credit' 'weak' 'plot' 'dialogu' 'wrong' 'left' 'tri' 'ann' 'confus'\n",
      " 'hollywood' 'soni' 'devic' 'burn' 'dont' 'minut' 'format' 'cost' 'either'\n",
      " 'complet' 'kindl' 'imposs' 'obvious' 'didnt' 'bunch' 'softwar' 'spend'\n",
      " 'box' 'machin' 'camera' 'half' 'mayb' 'okay' 'advertis' 'leak' 'item'\n",
      " 'print' 'plastic' 'script' 'garbag' 'hate' 'save' 'suppos' 'keurig'\n",
      " 'compani' 'warn' 'broken' 'mistak' 'serious' 'flat' 'plain' 'blade'\n",
      " 'stick' 'custom' 'halloween' 'stuck' 'throw' 'ruin' 'instead' 'phone'\n",
      " 'ok' 'paid' 'charg' 'wouldnt' 'pay' 'cheap' 'dissapoint' 'sent' 'lack'\n",
      " 'frustrat' 'none' 'publish' 'send' 'vh' 'fix' 'noth' 'attempt' 'claim'\n",
      " 'sell' 'skip' 'rip' 'rent' 'shame' 'bad' 'broke' 'unfortun' 'bare'\n",
      " 'annoy' 'paper' 'printer' 'avoid' 'sorri' 'fail' 'mess' 'money' 'return'\n",
      " 'bother' 'contact' 'joke' 'disappoint' 'suck' 'bewar' 'unless' 'stupid'\n",
      " 'error' 'dull' 'bore' 'ridicul' 'trash' 'terribl' 'poor' 'wors' 'useless'\n",
      " 'horribl' 'crap' 'worst' 'junk' 'aw' 'wast' 'poorli' 'refund']\n"
     ]
    },
    {
     "data": {
      "image/png": "[encoded data removed]",
      "text/plain": [
       "<matplotlib.figure.Figure at 0x7fe7eac5f7b8>"
      ]
     },
     "metadata": {},
     "output_type": "display_data"
    }
   ],
   "source": [
    "# for each word, differential_count = (# good - # bad) / (# total)\n",
    "differential_counts = (good_word_counts - bad_word_counts) / (good_word_counts + bad_word_counts)\n",
    "# words in order of decreasing differential\n",
    "decreasing_differential_words = \\\n",
    "    np.array([x for _,x in (sorted(list(zip(differential_counts, words[1:]))))[::-1]])\n",
    "decreasing_differential_counts = np.array(sorted(differential_counts)[::-1])\n",
    "\n",
    "threshold = 0.02\n",
    "\n",
    "neutral_word_indices = abs(decreasing_differential_counts) < threshold\n",
    "charged_word_indices = abs(decreasing_differential_counts) >= threshold\n",
    "good_word_indices = decreasing_differential_counts >= threshold\n",
    "bad_word_indices = decreasing_differential_counts <= -threshold\n",
    "\n",
    "neutral_words = decreasing_differential_words[neutral_word_indices]\n",
    "charged_words = decreasing_differential_words[charged_word_indices]\n",
    "good_words = decreasing_differential_words[good_word_indices]\n",
    "bad_words = decreasing_differential_words[bad_word_indices]\n",
    "\n",
    "print(\"Number of neutral words: \", len(neutral_words))\n",
    "print(\"Neutral words: \", neutral_words)\n",
    "print(\"Number of good words: \", len(good_words))\n",
    "print(\"Good words sorted in order from really good to good: \", good_words)\n",
    "print(\"Number of bad words: \", len(bad_words))\n",
    "print(\"Bad words sorted in order from bad to really bad: \", bad_words)\n",
    "print(\"Number of charged words: \", len(charged_words))\n",
    "print(\"Charged words sorted in order from good to bad: \", charged_words)\n",
    "\n",
    "# print(\"All words sorted in order from good to bad: \", decreasing_differential_words)\n",
    "plt.title(\"Differential word counts\")\n",
    "plt.bar(np.arange(len(words) - 1), decreasing_differential_counts, label=\"Differential word count\")\n",
    "plt.xlabel(\"Word number (index in list of words)\")\n",
    "plt.ylabel(\"(# good - # bad) / (# total)\")\n",
    "plt.legend()\n",
    "plt.show()"
   ]
  },
  {
   "cell_type": "code",
   "execution_count": 6,
   "metadata": {
    "collapsed": true
   },
   "outputs": [],
   "source": [
    "\"\"\"\n",
    "Takes in a numpy array consisting of outputs for our test set and\n",
    "outputs a file in the correct submission format (as per the sample\n",
    "submission file)\n",
    "\"\"\"\n",
    "def make_submission_file(arr, fname = \"submission.txt\"):\n",
    "    f = open(fname, 'w')\n",
    "    f.write(\"Id,Prediction\\n\")\n",
    "    for i in range(len(arr)):\n",
    "        f.write(str(i + 1) + \",\" + str(arr[i]) + '\\n')\n",
    "    f.close()\n",
    "    \n",
    "\"\"\"\n",
    "Normalize data by computing z score (x - mu) / std dev\n",
    "and add column of ones\n",
    "\"\"\"\n",
    "def normalize(X):\n",
    "    return X # normalizing doesn't seem to help so we don't do it\n",
    "    # Normalize our input data X\n",
    "    for i in range(len(X[0])):\n",
    "        X[:, i] = (X[:, i] - np.mean(X[:, i])) / np.std(X[:, i])\n",
    "    # Add column of 1s in the first column\n",
    "    X = np.insert(X, 0, 1, axis=1)\n",
    "    return X\n",
    "\n",
    "\"\"\"\n",
    "Calls helper functions to do all pre-processing of data\n",
    "\"\"\"\n",
    "def process(X, charged_word_indices):\n",
    "    # Normalize counts by mean and standard deviation (z-score) and add one column\n",
    "    # X = normalize (X) # seems to make the model worse?\n",
    "    # Remove columns corresponding to neutral words\n",
    "    X = X[:, charged_word_indices]\n",
    "    return X"
   ]
  },
  {
   "cell_type": "code",
   "execution_count": 7,
   "metadata": {
    "collapsed": true
   },
   "outputs": [],
   "source": [
    "x_train_original = process(unprocessed_x_train_original, charged_word_indices)\n",
    "x_test = process(test_data, charged_word_indices)"
   ]
  },
  {
   "cell_type": "code",
   "execution_count": 8,
   "metadata": {
    "collapsed": true
   },
   "outputs": [],
   "source": [
    "# Split into training and validation sets using sklearn function\n",
    "# I had implemented it but it was much messier than this\n",
    "x_train, x_val, y_train, y_val \\\n",
    "        = train_test_split(x_train_original, y_train_original, test_size = 0.2, random_state = None)\n",
    "        # = train_test_split(x_train_original, y_train_original, test_size = 0.2, random_state = 1)"
   ]
  },
  {
   "cell_type": "code",
   "execution_count": 9,
   "metadata": {},
   "outputs": [
    {
     "name": "stdout",
     "output_type": "stream",
     "text": [
      "(16000, 946)\n",
      "(4000, 946)\n",
      "(10000, 946)\n"
     ]
    }
   ],
   "source": [
    "print(np.shape(x_train))\n",
    "print(np.shape(x_val))\n",
    "print(np.shape(x_test))"
   ]
  },
  {
   "cell_type": "code",
   "execution_count": 10,
   "metadata": {},
   "outputs": [
    {
     "name": "stdout",
     "output_type": "stream",
     "text": [
      "Validation Accuracy: 84.450000\n"
     ]
    }
   ],
   "source": [
    "# Define network\n",
    "model = Sequential()\n",
    "model.add(Dense(50, input_shape=(len(x_train[0]),)))\n",
    "# model.add(BatchNormalization())\n",
    "model.add(Activation('relu'))\n",
    "model.add(Dropout(0.5))\n",
    "\n",
    "model.add(Dense(10)) \n",
    "# model.add(BatchNormalization())\n",
    "model.add(Activation('sigmoid'))\n",
    "model.add(Dropout(0.5))\n",
    "\n",
    "model.add(Dense(1))\n",
    "model.add(Activation('sigmoid'))\n",
    "\n",
    "# compile network\n",
    "model.compile(loss='binary_crossentropy', optimizer='adam', metrics=['accuracy'])\n",
    "# fit network\n",
    "model.fit(x_train, y_train, epochs=10, verbose=0, validation_data = (x_val, y_val)) # verbose = 2\n",
    "# Evaluate on validation set\n",
    "loss, acc = model.evaluate(x_val, y_val, verbose=0)\n",
    "print('Validation Accuracy: %f' % (acc*100))"
   ]
  },
  {
   "cell_type": "code",
   "execution_count": 11,
   "metadata": {},
   "outputs": [
    {
     "name": "stdout",
     "output_type": "stream",
     "text": [
      "4000/4000 [==============================] - 0s 31us/step\n",
      "Raw prediction scores:  [0.08988376 0.10241886 0.9764653  ... 0.67552215 0.5489343  0.67316437]\n",
      "Predictions (picking raw_score >= 0.5 as positives):  [0 0 1 ... 1 1 1]\n",
      "Actual y values:  [1. 0. 1. ... 0. 1. 1.]\n",
      "Number of correct predictions:  3378\n",
      "Number of incorrect predictions:  622\n"
     ]
    },
    {
     "data": {
      "image/png": "[encoded data removed]",
      "text/plain": [
       "<matplotlib.figure.Figure at 0x7fe7e6131240>"
      ]
     },
     "metadata": {},
     "output_type": "display_data"
    }
   ],
   "source": [
    "# Making pretty plots...not for use in submission\n",
    "y_val_predictions = model.predict(x_val, verbose=1)\n",
    "y_val_predictions = y_val_predictions.flatten()\n",
    "lst = (y_val_predictions >= 0.5).astype(int)\n",
    "print(\"Raw prediction scores: \", y_val_predictions)\n",
    "print(\"Predictions (picking raw_score >= 0.5 as positives): \", lst)\n",
    "print(\"Actual y values: \", y_val)\n",
    "print(\"Number of correct predictions: \", (y_val == lst).sum())\n",
    "print(\"Number of incorrect predictions: \", (y_val != lst).sum())\n",
    "y_val_predictions_0 = y_val_predictions[(np.where(y_val == 0)[0])]\n",
    "y_val_predictions_1 = y_val_predictions[(np.where(y_val == 1)[0])]\n",
    "plt.clf()\n",
    "plt.title(\"Comparing raw score of predicted $y$ to actual $y$\")\n",
    "plt.hist(np.concatenate((y_val_predictions_0, y_val_predictions_1)), stacked=True, label=\"y = 0\")\n",
    "plt.hist(y_val_predictions_1, stacked=True, label=\"y = 1\")\n",
    "plt.xlabel(\"Predicted y (raw score)\")\n",
    "plt.legend()\n",
    "plt.show()"
   ]
  },
  {
   "cell_type": "code",
   "execution_count": 12,
   "metadata": {},
   "outputs": [
    {
     "name": "stdout",
     "output_type": "stream",
     "text": [
      "10000/10000 [==============================] - 0s 27us/step\n"
     ]
    }
   ],
   "source": [
    "predictions = model.predict(x_test, verbose=1)\n",
    "predictions = predictions.flatten()"
   ]
  },
  {
   "cell_type": "code",
   "execution_count": 13,
   "metadata": {},
   "outputs": [
    {
     "name": "stdout",
     "output_type": "stream",
     "text": [
      "[0.97751313 0.7002779  0.21639657 ... 0.01642889 0.9757932  0.03219015]\n",
      "[1 1 0 ... 0 1 0]\n"
     ]
    },
    {
     "data": {
      "image/png": "[encoded data removed]",
      "text/plain": [
       "<matplotlib.figure.Figure at 0x7fe7eac173c8>"
      ]
     },
     "metadata": {},
     "output_type": "display_data"
    }
   ],
   "source": [
    "print(predictions)\n",
    "lst = (predictions >= 0.5).astype(int)\n",
    "print(lst)\n",
    "plt.hist(predictions)\n",
    "plt.show()"
   ]
  },
  {
   "cell_type": "code",
   "execution_count": 14,
   "metadata": {
    "collapsed": true
   },
   "outputs": [],
   "source": [
    "#print(words)"
   ]
  },
  {
   "cell_type": "code",
   "execution_count": 177,
   "metadata": {
    "collapsed": true
   },
   "outputs": [],
   "source": [
    "make_submission_file(lst)"
   ]
  },
  {
   "cell_type": "code",
   "execution_count": 148,
   "metadata": {},
   "outputs": [
    {
     "ename": "KeyboardInterrupt",
     "evalue": "",
     "output_type": "error",
     "traceback": [
      "\u001b[0;31m---------------------------------------------------------------------------\u001b[0m",
      "\u001b[0;31mKeyboardInterrupt\u001b[0m                         Traceback (most recent call last)",
      "\u001b[0;32m<ipython-input-148-58a0e812ba9b>\u001b[0m in \u001b[0;36m<module>\u001b[0;34m()\u001b[0m\n\u001b[1;32m     69\u001b[0m \u001b[0mmax_depth\u001b[0m \u001b[0;34m=\u001b[0m \u001b[0mnp\u001b[0m\u001b[0;34m.\u001b[0m\u001b[0marange\u001b[0m\u001b[0;34m(\u001b[0m\u001b[0;36m10\u001b[0m\u001b[0;34m,\u001b[0m \u001b[0;36m51\u001b[0m\u001b[0;34m)\u001b[0m\u001b[0;34m\u001b[0m\u001b[0m\n\u001b[1;32m     70\u001b[0m \u001b[0;34m\u001b[0m\u001b[0m\n\u001b[0;32m---> 71\u001b[0;31m \u001b[0mtrain_err\u001b[0m\u001b[0;34m,\u001b[0m \u001b[0mtest_err\u001b[0m \u001b[0;34m=\u001b[0m \u001b[0meval_tree_based_model_max_depth\u001b[0m\u001b[0;34m(\u001b[0m\u001b[0mclf\u001b[0m\u001b[0;34m,\u001b[0m \u001b[0mmax_depth\u001b[0m\u001b[0;34m,\u001b[0m \u001b[0mx_train\u001b[0m\u001b[0;34m,\u001b[0m \u001b[0my_train\u001b[0m\u001b[0;34m,\u001b[0m \u001b[0mx_val\u001b[0m\u001b[0;34m,\u001b[0m \u001b[0my_val\u001b[0m\u001b[0;34m)\u001b[0m\u001b[0;34m\u001b[0m\u001b[0m\n\u001b[0m\u001b[1;32m     72\u001b[0m \u001b[0;34m\u001b[0m\u001b[0m\n",
      "\u001b[0;32m<ipython-input-148-58a0e812ba9b>\u001b[0m in \u001b[0;36meval_tree_based_model_max_depth\u001b[0;34m(clf, max_depth, X_train, y_train, X_test, y_test)\u001b[0m\n\u001b[1;32m     52\u001b[0m         \u001b[0mclf_copy\u001b[0m \u001b[0;34m=\u001b[0m \u001b[0mbase\u001b[0m\u001b[0;34m.\u001b[0m\u001b[0mclone\u001b[0m\u001b[0;34m(\u001b[0m\u001b[0mclf\u001b[0m\u001b[0;34m)\u001b[0m\u001b[0;34m\u001b[0m\u001b[0m\n\u001b[1;32m     53\u001b[0m         \u001b[0mclf_copy\u001b[0m\u001b[0;34m.\u001b[0m\u001b[0mset_params\u001b[0m\u001b[0;34m(\u001b[0m\u001b[0mmax_depth\u001b[0m\u001b[0;34m=\u001b[0m\u001b[0mdepth\u001b[0m\u001b[0;34m)\u001b[0m\u001b[0;34m\u001b[0m\u001b[0m\n\u001b[0;32m---> 54\u001b[0;31m         \u001b[0mclf_copy\u001b[0m\u001b[0;34m.\u001b[0m\u001b[0mfit\u001b[0m\u001b[0;34m(\u001b[0m\u001b[0mX_train\u001b[0m\u001b[0;34m,\u001b[0m \u001b[0my_train\u001b[0m\u001b[0;34m)\u001b[0m\u001b[0;34m\u001b[0m\u001b[0m\n\u001b[0m\u001b[1;32m     55\u001b[0m \u001b[0;34m\u001b[0m\u001b[0m\n\u001b[1;32m     56\u001b[0m         \u001b[0mtrain_predict\u001b[0m \u001b[0;34m=\u001b[0m \u001b[0mclf_copy\u001b[0m\u001b[0;34m.\u001b[0m\u001b[0mpredict\u001b[0m\u001b[0;34m(\u001b[0m\u001b[0mX_train\u001b[0m\u001b[0;34m)\u001b[0m\u001b[0;34m\u001b[0m\u001b[0m\n",
      "\u001b[0;32m/anaconda/envs/py36/lib/python3.6/site-packages/sklearn/ensemble/forest.py\u001b[0m in \u001b[0;36mfit\u001b[0;34m(self, X, y, sample_weight)\u001b[0m\n\u001b[1;32m    325\u001b[0m                     \u001b[0mt\u001b[0m\u001b[0;34m,\u001b[0m \u001b[0mself\u001b[0m\u001b[0;34m,\u001b[0m \u001b[0mX\u001b[0m\u001b[0;34m,\u001b[0m \u001b[0my\u001b[0m\u001b[0;34m,\u001b[0m \u001b[0msample_weight\u001b[0m\u001b[0;34m,\u001b[0m \u001b[0mi\u001b[0m\u001b[0;34m,\u001b[0m \u001b[0mlen\u001b[0m\u001b[0;34m(\u001b[0m\u001b[0mtrees\u001b[0m\u001b[0;34m)\u001b[0m\u001b[0;34m,\u001b[0m\u001b[0;34m\u001b[0m\u001b[0m\n\u001b[1;32m    326\u001b[0m                     verbose=self.verbose, class_weight=self.class_weight)\n\u001b[0;32m--> 327\u001b[0;31m                 for i, t in enumerate(trees))\n\u001b[0m\u001b[1;32m    328\u001b[0m \u001b[0;34m\u001b[0m\u001b[0m\n\u001b[1;32m    329\u001b[0m             \u001b[0;31m# Collect newly grown trees\u001b[0m\u001b[0;34m\u001b[0m\u001b[0;34m\u001b[0m\u001b[0m\n",
      "\u001b[0;32m/anaconda/envs/py36/lib/python3.6/site-packages/sklearn/externals/joblib/parallel.py\u001b[0m in \u001b[0;36m__call__\u001b[0;34m(self, iterable)\u001b[0m\n\u001b[1;32m    777\u001b[0m             \u001b[0;31m# was dispatched. In particular this covers the edge\u001b[0m\u001b[0;34m\u001b[0m\u001b[0;34m\u001b[0m\u001b[0m\n\u001b[1;32m    778\u001b[0m             \u001b[0;31m# case of Parallel used with an exhausted iterator.\u001b[0m\u001b[0;34m\u001b[0m\u001b[0;34m\u001b[0m\u001b[0m\n\u001b[0;32m--> 779\u001b[0;31m             \u001b[0;32mwhile\u001b[0m \u001b[0mself\u001b[0m\u001b[0;34m.\u001b[0m\u001b[0mdispatch_one_batch\u001b[0m\u001b[0;34m(\u001b[0m\u001b[0miterator\u001b[0m\u001b[0;34m)\u001b[0m\u001b[0;34m:\u001b[0m\u001b[0;34m\u001b[0m\u001b[0m\n\u001b[0m\u001b[1;32m    780\u001b[0m                 \u001b[0mself\u001b[0m\u001b[0;34m.\u001b[0m\u001b[0m_iterating\u001b[0m \u001b[0;34m=\u001b[0m \u001b[0;32mTrue\u001b[0m\u001b[0;34m\u001b[0m\u001b[0m\n\u001b[1;32m    781\u001b[0m             \u001b[0;32melse\u001b[0m\u001b[0;34m:\u001b[0m\u001b[0;34m\u001b[0m\u001b[0m\n",
      "\u001b[0;32m/anaconda/envs/py36/lib/python3.6/site-packages/sklearn/externals/joblib/parallel.py\u001b[0m in \u001b[0;36mdispatch_one_batch\u001b[0;34m(self, iterator)\u001b[0m\n\u001b[1;32m    623\u001b[0m                 \u001b[0;32mreturn\u001b[0m \u001b[0;32mFalse\u001b[0m\u001b[0;34m\u001b[0m\u001b[0m\n\u001b[1;32m    624\u001b[0m             \u001b[0;32melse\u001b[0m\u001b[0;34m:\u001b[0m\u001b[0;34m\u001b[0m\u001b[0m\n\u001b[0;32m--> 625\u001b[0;31m                 \u001b[0mself\u001b[0m\u001b[0;34m.\u001b[0m\u001b[0m_dispatch\u001b[0m\u001b[0;34m(\u001b[0m\u001b[0mtasks\u001b[0m\u001b[0;34m)\u001b[0m\u001b[0;34m\u001b[0m\u001b[0m\n\u001b[0m\u001b[1;32m    626\u001b[0m                 \u001b[0;32mreturn\u001b[0m \u001b[0;32mTrue\u001b[0m\u001b[0;34m\u001b[0m\u001b[0m\n\u001b[1;32m    627\u001b[0m \u001b[0;34m\u001b[0m\u001b[0m\n",
      "\u001b[0;32m/anaconda/envs/py36/lib/python3.6/site-packages/sklearn/externals/joblib/parallel.py\u001b[0m in \u001b[0;36m_dispatch\u001b[0;34m(self, batch)\u001b[0m\n\u001b[1;32m    586\u001b[0m         \u001b[0mdispatch_timestamp\u001b[0m \u001b[0;34m=\u001b[0m \u001b[0mtime\u001b[0m\u001b[0;34m.\u001b[0m\u001b[0mtime\u001b[0m\u001b[0;34m(\u001b[0m\u001b[0;34m)\u001b[0m\u001b[0;34m\u001b[0m\u001b[0m\n\u001b[1;32m    587\u001b[0m         \u001b[0mcb\u001b[0m \u001b[0;34m=\u001b[0m \u001b[0mBatchCompletionCallBack\u001b[0m\u001b[0;34m(\u001b[0m\u001b[0mdispatch_timestamp\u001b[0m\u001b[0;34m,\u001b[0m \u001b[0mlen\u001b[0m\u001b[0;34m(\u001b[0m\u001b[0mbatch\u001b[0m\u001b[0;34m)\u001b[0m\u001b[0;34m,\u001b[0m \u001b[0mself\u001b[0m\u001b[0;34m)\u001b[0m\u001b[0;34m\u001b[0m\u001b[0m\n\u001b[0;32m--> 588\u001b[0;31m         \u001b[0mjob\u001b[0m \u001b[0;34m=\u001b[0m \u001b[0mself\u001b[0m\u001b[0;34m.\u001b[0m\u001b[0m_backend\u001b[0m\u001b[0;34m.\u001b[0m\u001b[0mapply_async\u001b[0m\u001b[0;34m(\u001b[0m\u001b[0mbatch\u001b[0m\u001b[0;34m,\u001b[0m \u001b[0mcallback\u001b[0m\u001b[0;34m=\u001b[0m\u001b[0mcb\u001b[0m\u001b[0;34m)\u001b[0m\u001b[0;34m\u001b[0m\u001b[0m\n\u001b[0m\u001b[1;32m    589\u001b[0m         \u001b[0mself\u001b[0m\u001b[0;34m.\u001b[0m\u001b[0m_jobs\u001b[0m\u001b[0;34m.\u001b[0m\u001b[0mappend\u001b[0m\u001b[0;34m(\u001b[0m\u001b[0mjob\u001b[0m\u001b[0;34m)\u001b[0m\u001b[0;34m\u001b[0m\u001b[0m\n\u001b[1;32m    590\u001b[0m \u001b[0;34m\u001b[0m\u001b[0m\n",
      "\u001b[0;32m/anaconda/envs/py36/lib/python3.6/site-packages/sklearn/externals/joblib/_parallel_backends.py\u001b[0m in \u001b[0;36mapply_async\u001b[0;34m(self, func, callback)\u001b[0m\n\u001b[1;32m    109\u001b[0m     \u001b[0;32mdef\u001b[0m \u001b[0mapply_async\u001b[0m\u001b[0;34m(\u001b[0m\u001b[0mself\u001b[0m\u001b[0;34m,\u001b[0m \u001b[0mfunc\u001b[0m\u001b[0;34m,\u001b[0m \u001b[0mcallback\u001b[0m\u001b[0;34m=\u001b[0m\u001b[0;32mNone\u001b[0m\u001b[0;34m)\u001b[0m\u001b[0;34m:\u001b[0m\u001b[0;34m\u001b[0m\u001b[0m\n\u001b[1;32m    110\u001b[0m         \u001b[0;34m\"\"\"Schedule a func to be run\"\"\"\u001b[0m\u001b[0;34m\u001b[0m\u001b[0m\n\u001b[0;32m--> 111\u001b[0;31m         \u001b[0mresult\u001b[0m \u001b[0;34m=\u001b[0m \u001b[0mImmediateResult\u001b[0m\u001b[0;34m(\u001b[0m\u001b[0mfunc\u001b[0m\u001b[0;34m)\u001b[0m\u001b[0;34m\u001b[0m\u001b[0m\n\u001b[0m\u001b[1;32m    112\u001b[0m         \u001b[0;32mif\u001b[0m \u001b[0mcallback\u001b[0m\u001b[0;34m:\u001b[0m\u001b[0;34m\u001b[0m\u001b[0m\n\u001b[1;32m    113\u001b[0m             \u001b[0mcallback\u001b[0m\u001b[0;34m(\u001b[0m\u001b[0mresult\u001b[0m\u001b[0;34m)\u001b[0m\u001b[0;34m\u001b[0m\u001b[0m\n",
      "\u001b[0;32m/anaconda/envs/py36/lib/python3.6/site-packages/sklearn/externals/joblib/_parallel_backends.py\u001b[0m in \u001b[0;36m__init__\u001b[0;34m(self, batch)\u001b[0m\n\u001b[1;32m    330\u001b[0m         \u001b[0;31m# Don't delay the application, to avoid keeping the input\u001b[0m\u001b[0;34m\u001b[0m\u001b[0;34m\u001b[0m\u001b[0m\n\u001b[1;32m    331\u001b[0m         \u001b[0;31m# arguments in memory\u001b[0m\u001b[0;34m\u001b[0m\u001b[0;34m\u001b[0m\u001b[0m\n\u001b[0;32m--> 332\u001b[0;31m         \u001b[0mself\u001b[0m\u001b[0;34m.\u001b[0m\u001b[0mresults\u001b[0m \u001b[0;34m=\u001b[0m \u001b[0mbatch\u001b[0m\u001b[0;34m(\u001b[0m\u001b[0;34m)\u001b[0m\u001b[0;34m\u001b[0m\u001b[0m\n\u001b[0m\u001b[1;32m    333\u001b[0m \u001b[0;34m\u001b[0m\u001b[0m\n\u001b[1;32m    334\u001b[0m     \u001b[0;32mdef\u001b[0m \u001b[0mget\u001b[0m\u001b[0;34m(\u001b[0m\u001b[0mself\u001b[0m\u001b[0;34m)\u001b[0m\u001b[0;34m:\u001b[0m\u001b[0;34m\u001b[0m\u001b[0m\n",
      "\u001b[0;32m/anaconda/envs/py36/lib/python3.6/site-packages/sklearn/externals/joblib/parallel.py\u001b[0m in \u001b[0;36m__call__\u001b[0;34m(self)\u001b[0m\n\u001b[1;32m    129\u001b[0m \u001b[0;34m\u001b[0m\u001b[0m\n\u001b[1;32m    130\u001b[0m     \u001b[0;32mdef\u001b[0m \u001b[0m__call__\u001b[0m\u001b[0;34m(\u001b[0m\u001b[0mself\u001b[0m\u001b[0;34m)\u001b[0m\u001b[0;34m:\u001b[0m\u001b[0;34m\u001b[0m\u001b[0m\n\u001b[0;32m--> 131\u001b[0;31m         \u001b[0;32mreturn\u001b[0m \u001b[0;34m[\u001b[0m\u001b[0mfunc\u001b[0m\u001b[0;34m(\u001b[0m\u001b[0;34m*\u001b[0m\u001b[0margs\u001b[0m\u001b[0;34m,\u001b[0m \u001b[0;34m**\u001b[0m\u001b[0mkwargs\u001b[0m\u001b[0;34m)\u001b[0m \u001b[0;32mfor\u001b[0m \u001b[0mfunc\u001b[0m\u001b[0;34m,\u001b[0m \u001b[0margs\u001b[0m\u001b[0;34m,\u001b[0m \u001b[0mkwargs\u001b[0m \u001b[0;32min\u001b[0m \u001b[0mself\u001b[0m\u001b[0;34m.\u001b[0m\u001b[0mitems\u001b[0m\u001b[0;34m]\u001b[0m\u001b[0;34m\u001b[0m\u001b[0m\n\u001b[0m\u001b[1;32m    132\u001b[0m \u001b[0;34m\u001b[0m\u001b[0m\n\u001b[1;32m    133\u001b[0m     \u001b[0;32mdef\u001b[0m \u001b[0m__len__\u001b[0m\u001b[0;34m(\u001b[0m\u001b[0mself\u001b[0m\u001b[0;34m)\u001b[0m\u001b[0;34m:\u001b[0m\u001b[0;34m\u001b[0m\u001b[0m\n",
      "\u001b[0;32m/anaconda/envs/py36/lib/python3.6/site-packages/sklearn/externals/joblib/parallel.py\u001b[0m in \u001b[0;36m<listcomp>\u001b[0;34m(.0)\u001b[0m\n\u001b[1;32m    129\u001b[0m \u001b[0;34m\u001b[0m\u001b[0m\n\u001b[1;32m    130\u001b[0m     \u001b[0;32mdef\u001b[0m \u001b[0m__call__\u001b[0m\u001b[0;34m(\u001b[0m\u001b[0mself\u001b[0m\u001b[0;34m)\u001b[0m\u001b[0;34m:\u001b[0m\u001b[0;34m\u001b[0m\u001b[0m\n\u001b[0;32m--> 131\u001b[0;31m         \u001b[0;32mreturn\u001b[0m \u001b[0;34m[\u001b[0m\u001b[0mfunc\u001b[0m\u001b[0;34m(\u001b[0m\u001b[0;34m*\u001b[0m\u001b[0margs\u001b[0m\u001b[0;34m,\u001b[0m \u001b[0;34m**\u001b[0m\u001b[0mkwargs\u001b[0m\u001b[0;34m)\u001b[0m \u001b[0;32mfor\u001b[0m \u001b[0mfunc\u001b[0m\u001b[0;34m,\u001b[0m \u001b[0margs\u001b[0m\u001b[0;34m,\u001b[0m \u001b[0mkwargs\u001b[0m \u001b[0;32min\u001b[0m \u001b[0mself\u001b[0m\u001b[0;34m.\u001b[0m\u001b[0mitems\u001b[0m\u001b[0;34m]\u001b[0m\u001b[0;34m\u001b[0m\u001b[0m\n\u001b[0m\u001b[1;32m    132\u001b[0m \u001b[0;34m\u001b[0m\u001b[0m\n\u001b[1;32m    133\u001b[0m     \u001b[0;32mdef\u001b[0m \u001b[0m__len__\u001b[0m\u001b[0;34m(\u001b[0m\u001b[0mself\u001b[0m\u001b[0;34m)\u001b[0m\u001b[0;34m:\u001b[0m\u001b[0;34m\u001b[0m\u001b[0m\n",
      "\u001b[0;32m/anaconda/envs/py36/lib/python3.6/site-packages/sklearn/ensemble/forest.py\u001b[0m in \u001b[0;36m_parallel_build_trees\u001b[0;34m(tree, forest, X, y, sample_weight, tree_idx, n_trees, verbose, class_weight)\u001b[0m\n\u001b[1;32m    118\u001b[0m             \u001b[0mcurr_sample_weight\u001b[0m \u001b[0;34m*=\u001b[0m \u001b[0mcompute_sample_weight\u001b[0m\u001b[0;34m(\u001b[0m\u001b[0;34m'balanced'\u001b[0m\u001b[0;34m,\u001b[0m \u001b[0my\u001b[0m\u001b[0;34m,\u001b[0m \u001b[0mindices\u001b[0m\u001b[0;34m)\u001b[0m\u001b[0;34m\u001b[0m\u001b[0m\n\u001b[1;32m    119\u001b[0m \u001b[0;34m\u001b[0m\u001b[0m\n\u001b[0;32m--> 120\u001b[0;31m         \u001b[0mtree\u001b[0m\u001b[0;34m.\u001b[0m\u001b[0mfit\u001b[0m\u001b[0;34m(\u001b[0m\u001b[0mX\u001b[0m\u001b[0;34m,\u001b[0m \u001b[0my\u001b[0m\u001b[0;34m,\u001b[0m \u001b[0msample_weight\u001b[0m\u001b[0;34m=\u001b[0m\u001b[0mcurr_sample_weight\u001b[0m\u001b[0;34m,\u001b[0m \u001b[0mcheck_input\u001b[0m\u001b[0;34m=\u001b[0m\u001b[0;32mFalse\u001b[0m\u001b[0;34m)\u001b[0m\u001b[0;34m\u001b[0m\u001b[0m\n\u001b[0m\u001b[1;32m    121\u001b[0m     \u001b[0;32melse\u001b[0m\u001b[0;34m:\u001b[0m\u001b[0;34m\u001b[0m\u001b[0m\n\u001b[1;32m    122\u001b[0m         \u001b[0mtree\u001b[0m\u001b[0;34m.\u001b[0m\u001b[0mfit\u001b[0m\u001b[0;34m(\u001b[0m\u001b[0mX\u001b[0m\u001b[0;34m,\u001b[0m \u001b[0my\u001b[0m\u001b[0;34m,\u001b[0m \u001b[0msample_weight\u001b[0m\u001b[0;34m=\u001b[0m\u001b[0msample_weight\u001b[0m\u001b[0;34m,\u001b[0m \u001b[0mcheck_input\u001b[0m\u001b[0;34m=\u001b[0m\u001b[0;32mFalse\u001b[0m\u001b[0;34m)\u001b[0m\u001b[0;34m\u001b[0m\u001b[0m\n",
      "\u001b[0;32m/anaconda/envs/py36/lib/python3.6/site-packages/sklearn/tree/tree.py\u001b[0m in \u001b[0;36mfit\u001b[0;34m(self, X, y, sample_weight, check_input, X_idx_sorted)\u001b[0m\n\u001b[1;32m    788\u001b[0m             \u001b[0msample_weight\u001b[0m\u001b[0;34m=\u001b[0m\u001b[0msample_weight\u001b[0m\u001b[0;34m,\u001b[0m\u001b[0;34m\u001b[0m\u001b[0m\n\u001b[1;32m    789\u001b[0m             \u001b[0mcheck_input\u001b[0m\u001b[0;34m=\u001b[0m\u001b[0mcheck_input\u001b[0m\u001b[0;34m,\u001b[0m\u001b[0;34m\u001b[0m\u001b[0m\n\u001b[0;32m--> 790\u001b[0;31m             X_idx_sorted=X_idx_sorted)\n\u001b[0m\u001b[1;32m    791\u001b[0m         \u001b[0;32mreturn\u001b[0m \u001b[0mself\u001b[0m\u001b[0;34m\u001b[0m\u001b[0m\n\u001b[1;32m    792\u001b[0m \u001b[0;34m\u001b[0m\u001b[0m\n",
      "\u001b[0;32m/anaconda/envs/py36/lib/python3.6/site-packages/sklearn/tree/tree.py\u001b[0m in \u001b[0;36mfit\u001b[0;34m(self, X, y, sample_weight, check_input, X_idx_sorted)\u001b[0m\n\u001b[1;32m    360\u001b[0m                                            min_impurity_split)\n\u001b[1;32m    361\u001b[0m \u001b[0;34m\u001b[0m\u001b[0m\n\u001b[0;32m--> 362\u001b[0;31m         \u001b[0mbuilder\u001b[0m\u001b[0;34m.\u001b[0m\u001b[0mbuild\u001b[0m\u001b[0;34m(\u001b[0m\u001b[0mself\u001b[0m\u001b[0;34m.\u001b[0m\u001b[0mtree_\u001b[0m\u001b[0;34m,\u001b[0m \u001b[0mX\u001b[0m\u001b[0;34m,\u001b[0m \u001b[0my\u001b[0m\u001b[0;34m,\u001b[0m \u001b[0msample_weight\u001b[0m\u001b[0;34m,\u001b[0m \u001b[0mX_idx_sorted\u001b[0m\u001b[0;34m)\u001b[0m\u001b[0;34m\u001b[0m\u001b[0m\n\u001b[0m\u001b[1;32m    363\u001b[0m \u001b[0;34m\u001b[0m\u001b[0m\n\u001b[1;32m    364\u001b[0m         \u001b[0;32mif\u001b[0m \u001b[0mself\u001b[0m\u001b[0;34m.\u001b[0m\u001b[0mn_outputs_\u001b[0m \u001b[0;34m==\u001b[0m \u001b[0;36m1\u001b[0m\u001b[0;34m:\u001b[0m\u001b[0;34m\u001b[0m\u001b[0m\n",
      "\u001b[0;31mKeyboardInterrupt\u001b[0m: "
     ]
    }
   ],
   "source": [
    "# Random forest model\n",
    "\n",
    "def classification_err(y, real_y):\n",
    "    \"\"\"\n",
    "    This function returns the classification error between two equally-sized vectors of \n",
    "    labels; this is the fraction of samples for which the labels differ.\n",
    "    \n",
    "    Inputs:\n",
    "        y: (N, ) shaped array of predicted labels\n",
    "        real_y: (N, ) shaped array of true labels\n",
    "    Output:\n",
    "        Scalar classification error\n",
    "    \"\"\"\n",
    "    tot_err = 0\n",
    "    \n",
    "    # Count how many samples the labels differ between the two vectors\n",
    "    for i in range(len(y)):\n",
    "        if y[i] != real_y[i]:\n",
    "            tot_err += 1\n",
    "    \n",
    "    # Get the fraction of samples for which the labels differ\n",
    "    classification_error = float(tot_err) / len(y)\n",
    "    \n",
    "    return classification_error\n",
    "    \n",
    "def eval_tree_based_model_max_depth(clf, max_depth, X_train, y_train, X_test, y_test):\n",
    "    \"\"\"\n",
    "    This function evaluates the given classifier (either a decision tree or random forest) at all of the \n",
    "    minimum leaf size parameters in the vector min_samples_leaf, using the given training and testing\n",
    "    data. It returns two vector, with the training and testing classification errors.\n",
    "    \n",
    "    Inputs:\n",
    "        clf: either a decision tree or random forest classifier object\n",
    "        min_samples_leaf: a (T, ) vector of all the min_samples_leaf stopping condition parameters \n",
    "                            to test, where T is the number of parameters to test\n",
    "        X_train: (N, D) matrix of training samples.\n",
    "        y_train: (N, ) vector of training labels.\n",
    "        X_test: (N, D) matrix of test samples\n",
    "        y_test: (N, ) vector of test labels\n",
    "    Output:\n",
    "        train_err: (T, ) vector of classification errors on the training data\n",
    "        test_err: (T, ) vector of classification errors on the test data\n",
    "    \"\"\"\n",
    "    train_err = []\n",
    "    val_err = []\n",
    "    \n",
    "    # Use minimum leaf size parameters to create, train, and test a classifier\n",
    "\n",
    "    # Make a new copy of the classifier, which allows us to \"forget\" about the\n",
    "    # fitting from the previous min_leaf value\n",
    "    for depth in max_depth:\n",
    "        clf_copy = base.clone(clf)\n",
    "        clf_copy.set_params(max_depth=depth)\n",
    "        clf_copy.fit(X_train, y_train)\n",
    "\n",
    "        train_predict = clf_copy.predict(X_train)\n",
    "        test_predict = clf_copy.predict(X_test)\n",
    "\n",
    "        train_err.append(classification_err(train_predict, y_train))\n",
    "        val_err.append(classification_err(test_predict, y_test))\n",
    "\n",
    "    return train_err, val_err\n",
    "\n",
    "\n",
    "\n",
    "n_estimators = 100\n",
    "clf = RandomForestClassifier(n_estimators = n_estimators, criterion = 'gini')\n",
    "\n",
    "max_depth = np.arange(10, 51)\n",
    "\n",
    "train_err, test_err = eval_tree_based_model_max_depth(clf, max_depth, x_train, y_train, x_val, y_val)"
   ]
  },
  {
   "cell_type": "code",
   "execution_count": null,
   "metadata": {
    "collapsed": true
   },
   "outputs": [],
   "source": [
    "x_train = training_data[:, 1:]\n",
    "y_train = training_data[:, 0]\n",
    "x_test = test_data\n",
    "\n",
    "def random_forest_predict(clf, max_depth, X_train, y_train, X_test):\n",
    "    \"\"\"\n",
    "    This function evaluates the given classifier (either a decision tree or random forest) at all of the \n",
    "    minimum leaf size parameters in the vector min_samples_leaf, using the given training and testing\n",
    "    data. It returns two vector, with the training and testing classification errors.\n",
    "    \n",
    "    Inputs:\n",
    "        clf: either a decision tree or random forest classifier object\n",
    "        min_samples_leaf: a (T, ) vector of all the min_samples_leaf stopping condition parameters \n",
    "                            to test, where T is the number of parameters to test\n",
    "        X_train: (N, D) matrix of training samples.\n",
    "        y_train: (N, ) vector of training labels.\n",
    "        X_test: (N, D) matrix of test samples\n",
    "        y_test: (N, ) vector of test labels\n",
    "    Output:\n",
    "        train_err: (T, ) vector of classification errors on the training data\n",
    "        test_err: (T, ) vector of classification errors on the test data\n",
    "    \"\"\"\n",
    "    train_err = []\n",
    "    val_err = []\n",
    "    \n",
    "    # Use minimum leaf size parameters to create, train, and test a classifier\n",
    "\n",
    "    # Make a new copy of the classifier, which allows us to \"forget\" about the\n",
    "    # fitting from the previous min_leaf value\n",
    "    clf_copy = base.clone(clf)\n",
    "    clf_copy.set_params(max_depth= max_depth)\n",
    "    clf_copy.fit(X_train, y_train)\n",
    "\n",
    "    train_predict = clf_copy.predict(X_train)\n",
    "    test_predict = clf_copy.predict(X_test)\n",
    "\n",
    "    train_err.append(classification_err(train_predict, y_train))\n",
    "\n",
    "    return train_err, test_predict\n",
    "\n",
    "train_err, test_predict = random_forest_predict(clf, 49, x_train, y_train, x_test)\n",
    "\n",
    "print(train_err)\n",
    "\n",
    "print(test_predict)"
   ]
  },
  {
   "cell_type": "code",
   "execution_count": 144,
   "metadata": {},
   "outputs": [
    {
     "data": {
      "text/plain": [
       "array([1, 1, 0, ..., 0, 1, 0])"
      ]
     },
     "execution_count": 144,
     "metadata": {},
     "output_type": "execute_result"
    }
   ],
   "source": [
    "test_predict.astype(int)"
   ]
  },
  {
   "cell_type": "code",
   "execution_count": null,
   "metadata": {
    "collapsed": true
   },
   "outputs": [],
   "source": [
    "plt.figure()\n",
    "plt.plot(max_depth, test_err, label='Testing error')\n",
    "plt.plot(max_depth, train_err, label='Training error')\n",
    "plt.xlabel('Maximum Tree Depth')\n",
    "plt.ylabel('Validation error')\n",
    "plt.title('Decision Tree with Gini Impurity and Maximum Tree Depth')\n",
    "plt.legend(loc=0, shadow=True, fontsize='x-large')\n",
    "plt.show()\n",
    "\n",
    "print('Test error minimized at max_depth = %i' % max_depth[np.argmin(test_err)])"
   ]
  },
  {
   "cell_type": "code",
   "execution_count": 145,
   "metadata": {
    "collapsed": true
   },
   "outputs": [],
   "source": [
    "make_submission_file(test_predict.astype(int))"
   ]
  },
  {
   "cell_type": "code",
   "execution_count": 133,
   "metadata": {},
   "outputs": [
    {
     "name": "stdout",
     "output_type": "stream",
     "text": [
      "10000\n"
     ]
    }
   ],
   "source": [
    "print(len(test_predict))"
   ]
  }
 ],
 "metadata": {
  "kernelspec": {
   "display_name": "Python 3",
   "language": "python",
   "name": "python3"
  },
  "language_info": {
   "codemirror_mode": {
    "name": "ipython",
    "version": 3
   },
   "file_extension": ".py",
   "mimetype": "text/x-python",
   "name": "python",
   "nbconvert_exporter": "python",
   "pygments_lexer": "ipython3",
   "version": "3.6.2"
  }
 },
 "nbformat": 4,
 "nbformat_minor": 2
}
