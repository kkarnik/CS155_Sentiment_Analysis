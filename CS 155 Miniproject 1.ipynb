{
 "cells": [
  {
   "cell_type": "markdown",
   "metadata": {},
   "source": [
    "# Kaggle Miniproject 1"
   ]
  },
  {
   "cell_type": "markdown",
   "metadata": {},
   "source": [
    "## Team Members:\n",
    "### Karthik Karnik\n",
    "### Anvita Mishra\n",
    "### Kapil Sinha"
   ]
  },
  {
   "cell_type": "code",
   "execution_count": 106,
   "metadata": {},
   "outputs": [],
   "source": [
    "import numpy as np\n",
    "import matplotlib.pyplot as plt\n",
    "\n",
    "\n",
    "from keras.callbacks import EarlyStopping\n",
    "\n",
    "from keras.layers import advanced_activations\n",
    "from keras.models import Sequential\n",
    "from keras.layers import Dense\n",
    "from keras.layers import Dropout, Conv1D, MaxPooling1D, BatchNormalization, Activation, Flatten\n",
    "from sklearn import tree, base\n",
    "from sklearn.ensemble import RandomForestClassifier\n",
    "from sklearn.model_selection import train_test_split"
   ]
  },
  {
   "cell_type": "code",
   "execution_count": 20,
   "metadata": {
    "collapsed": true
   },
   "outputs": [],
   "source": [
    "with open(\"training_data.txt\") as f:\n",
    "    words = f.readline().split(' ')\n",
    "training_data = np.loadtxt(\"training_data.txt\", skiprows = 1)\n",
    "test_data = np.loadtxt(\"test_data.txt\", skiprows = 1)"
   ]
  },
  {
   "cell_type": "code",
   "execution_count": 21,
   "metadata": {
    "collapsed": true
   },
   "outputs": [],
   "source": [
    "unprocessed_x_train_original = training_data[:, 1:]\n",
    "y_train_original = training_data[:, 0]"
   ]
  },
  {
   "cell_type": "code",
   "execution_count": 22,
   "metadata": {},
   "outputs": [
    {
     "data": {
      "image/png": "[encoded data removed]",
      "text/plain": [
       "<matplotlib.figure.Figure at 0x1203f48d0>"
      ]
     },
     "metadata": {},
     "output_type": "display_data"
    },
    {
     "data": {
      "image/png": "[encoded data removed]",
      "text/plain": [
       "<matplotlib.figure.Figure at 0x113e86780>"
      ]
     },
     "metadata": {},
     "output_type": "display_data"
    }
   ],
   "source": [
    "# Making pretty plots...not for use in submission\n",
    "bad_reviews = unprocessed_x_train_original[(np.where(y_train_original == 0)[0])]\n",
    "good_reviews = unprocessed_x_train_original[(np.where(y_train_original == 1)[0])]\n",
    "# counts are sum of elements in columns\n",
    "bad_word_counts = np.sum(bad_reviews, axis = 0)\n",
    "good_word_counts = np.sum(good_reviews, axis = 0)\n",
    "#print(len(bad_word_counts))\n",
    "#print(len(good_word_counts))\n",
    "\n",
    "plt.clf()\n",
    "plt.title(\"Word count in good reviews\")\n",
    "plt.bar(np.arange(len(words) - 1), good_word_counts, log=True, label=\"Good review word count\")\n",
    "plt.xlabel(\"Word number (index in list of words)\")\n",
    "plt.ylabel(\"Word count\")\n",
    "plt.legend()\n",
    "plt.show()\n",
    "\n",
    "plt.title(\"Word count in bad reviews\")\n",
    "plt.bar(np.arange(len(words) - 1), bad_word_counts, log=True, label=\"Bad review word count\")\n",
    "plt.xlabel(\"Word number (index in list of words)\")\n",
    "plt.ylabel(\"Word count\")\n",
    "plt.legend()\n",
    "plt.show()"
   ]
  },
  {
   "cell_type": "code",
   "execution_count": 23,
   "metadata": {},
   "outputs": [
    {
     "name": "stdout",
     "output_type": "stream",
     "text": [
      "Number of neutral words:  0\n",
      "Neutral words:  []\n",
      "Number of good words:  448\n",
      "Good words sorted in order from really good to good:  ['awesom' 'excel' 'fantast' 'perfect' 'highli' 'amaz' 'solid' 'uniqu'\n",
      " 'captur' 'perfectli' 'hobbit' 'delight' 'batman' 'adventur' 'tivo'\n",
      " 'favorit' 'beauti' 'great' 'fascin' 'bibl' 'easi' 'appreci' 'best'\n",
      " 'famili' 'journey' 'brilliant' 'love' 'heart' 'charm' 'inspir' 'jazz'\n",
      " 'lover' 'fun' 'masterpiec' 'condit' 'wonder' 'soul' 'rock' 'complaint'\n",
      " 'combin' 'town' 'eragon' 'tolkien' 'young' 'grow' 'tale' 'human' 'age'\n",
      " 'enjoy' 'classic' 'world' 'father' 'comfort' 'collect' 'definit' 'lesson'\n",
      " 'sweet' 'deep' 'mom' 'dream' 'touch' 'must' 'share' 'greatest' 'album'\n",
      " 'illustr' 'quick' 'entertain' 'histori' 'summer' 'satisfi' 'magic' 'de'\n",
      " 'truli' 'cultur' 'faith' 'bring' 'shoe' 'alway' 'vocal' 'eye' 'strong'\n",
      " 'natur' 'earli' 'trip' 'everyon' 'glad' 'relationship' 'defin' 'beat'\n",
      " 'emot' 'wow' 'fiction' 'abil' 'travel' 'life' 'live' 'hook' 'simpl'\n",
      " 'recommend' 'gift' 'thank' 'guitar' 'today' 'danc' 'happi' 'romanc' 'job'\n",
      " 'brought' 'fast' 'centuri' 'especi' 'cool' 'master' 'literatur' 'sister'\n",
      " 'lyric' 'music' 'season' 'portray' 'knowledg' 'rememb' 'death' 'tune'\n",
      " 'well' 'surpris' 'histor' 'manag' 'mysteri' 'challeng' 'modern' 'insight'\n",
      " 'cd' 'listen' 'struggl' 'cat' 'ring' 'exactli' 'twist' 'genr' 'adult'\n",
      " 'clay' 'anim' 'learn' 'scienc' 'help' 'bit' 'nice' 'critic' 'song' 'studi'\n",
      " 'relat' 'prove' 'power' 'becom' 'futur' 'super' 'along' 'rang' 'georg'\n",
      " 'carri' 'detail' 'incred' 'practic' 'aspect' 'plan' 'pack' 'tool' 'add'\n",
      " 'yet' 'la' 'success' 'friend' 'john' 'havent' 'theme' 'suspens' 'secret'\n",
      " 'remind' 'import' 'man' 'voic' 'guid' 'christma' 'true' 'societi' 'home'\n",
      " 'warm' 'america' 'track' 'heavi' 'price' 'rice' 'wife' 'art' 'cri' 'still'\n",
      " 'us' 'ago' 'band' 'hi' 'concert' 'christian' 'laugh' 'room' 'measur'\n",
      " 'valu' 'imagin' 'cast' 'keep' 'brother' 'deal' 'also' 'provid' 'involv'\n",
      " 'everi' 'rare' 'husband' 'deliv' 'alot' 'easili' 'parent' 'night' 'anyon'\n",
      " 'group' 'build' 'colleg' 'includ' 'seri' 'stand' 'son' 'fantasi'\n",
      " 'daughter' 'introduct' 'addit' 'year' 'children' 'teach' 'girl' 'creat'\n",
      " 'youll' 'citi' 'artist' 'togeth' 'boy' 'event' 'overal' 'unlik' 'edg'\n",
      " 'experi' 'accur' 'sing' 'men' 'memori' 'littl' 'although' 'talent' 'battl'\n",
      " 'background' 'reader' 'treat' 'hot' 'action' 'read' 'form' 'mother'\n",
      " 'offic' 'knew' 'cours' 'war' 'dark' 'good' 'humor' 'meet' 'show' 'busi'\n",
      " 'teenag' 'clear' 'perform' 'refer' 'though' 'air' 'hit' 'set' 'step' 'god'\n",
      " 'period' 'singer' 'onc' 'choic' 'person' 'stori' 'tire' 'student' 'pure'\n",
      " 'murder' 'american' 'improv' 'bodi' 'forev' 'countri' 'lord' 'level'\n",
      " 'account' 'begin' 'late' 'soon' 'five' 'present' 'heard' 'recent' 'evil'\n",
      " 'youv' 'describ' 'pop' 'funni' 'light' 'roll' 'area' 'day' 'truth' 'mix'\n",
      " 'question' 'volum' 'adapt' 'discov' 'current' 'sometim' 'put' 'women'\n",
      " 'pair' 'fli' 'play' 'understand' 'school' 'throughout' 'known' 'push'\n",
      " 'featur' 'role' 'chang' 'behind' 'lot' 'clean' 'older' 'style' 'quickli'\n",
      " 'allow' 'train' 'ha' 'view' 'polit' 'toward' 'abl' 'fan' 'translat' 'cute'\n",
      " 'control' 'attent' 'ball' 'face' 'drive' 'interest' 'ive' 'everyth' 'kid'\n",
      " 'veri' 'alon' 'extra' 'car' 'blue' 'teacher' 'feel' 'continu' 'comedi'\n",
      " 'novel' 'final' 'ms' 'doubt' 'place' 'ad' 'plu' 'find' 'pick' 'comic'\n",
      " 'came' 'hand' 'typic' 'process' 'done' 'mind' 'sleep' 'forget'\n",
      " 'soundtrack' 'past' 'top' 'dog' 'wear' 'theyr' 'follow' 'worth' 'hear'\n",
      " 'move' 'earth' 'red' 'come' 'old' 'record' 'take' 'radio' 'first' 'chanc'\n",
      " 'librari' 'new' 'cook' 'way' 'comment' 'moment' 'book' 'sit' 'depth' 'one'\n",
      " 'univers' 'grade' 'arriv' 'saw' 'section' 'head' 'word' 'leav' 'sinc'\n",
      " 'may' 'right' 'metal' 'written' 'dure' 'mani' 'fight' 'lead' 'white'\n",
      " 'realli' '20' 'ever' 'need' 'standard' 'possibl' 'hero' 'handl']\n",
      "Number of bad words:  556\n",
      "Bad words sorted in order from bad to really bad:  ['standard' 'possibl' 'hero' 'handl' 'far' 'tell' 'differ' 'usual' 'next'\n",
      " 'often' 'across' 'wish' 'explain' 'without' 'quit' 'later' 'whole' 'local'\n",
      " 'fire' 'absolut' 'hous' 'around' 'horror' 'somewhat' 'similar' 'inform'\n",
      " 'project' 'photo' 'direct' 'upon' 'forward' 'type' 'impress' 'middl' 'toy'\n",
      " 'troubl' 'seen' 'store' 'select' 'note' 'real' 'watch' 'small' 'requir'\n",
      " 'issu' 'three' 'start' 'class' 'give' 'make' 'topic' 'creativ' 'size'\n",
      " 'goe' 'sequel' 'four' 'peopl' 'system' 'whether' 'time' 'charact' 'pretti'\n",
      " 'test' 'gener' 'straight' 'develop' 'see' 'part' 'use' 'coupl' 'opinion'\n",
      " 'open' 'insid' 'long' 'compar' 'simpli' 'excit' 'film' 'full' 'stuff'\n",
      " 'singl' 'work' 'becam' 'episod' 'thi' 'exist' 'flick' 'research' 'think'\n",
      " 'woman' 'matter' 'answer' 'sever' 'fit' 'prefer' 'due' 'like' 'cover'\n",
      " 'certainli' 'wait' 'color' 'game' 'big' 'run' 'know' 'loud' 'plug' 'black'\n",
      " 'subject' 'special' 'space' 'morn' 'case' 'larg' 'walk' 'end' 'hold'\n",
      " 'french' 'seriou' 'sad' 'releas' 'self' '50' 'languag' 'certain' 'movi'\n",
      " 'regular' 'transfer' 'except' 'limit' 'search' 'babi' 'check' 'mark'\n",
      " 'close' 'messag' 'found' 'fall' 'want' 'particular' 'hard' 'video'\n",
      " 'instal' 'bag' 'king' 'realiz' 'child' 'beyond' 'mean' 'anyway' 'skin'\n",
      " 'fine' 'second' 'cant' 'fill' 'tv' 'befor' '100' 'english' 'pull' 'almost'\n",
      " 'date' 'go' '30' 'nearli' 'mine' 'offer' '10' 'within' 'taken' 'ask'\n",
      " 'writer' 'contain' 'text' 'reason' 'say' 'high' 'probabl' 'immedi'\n",
      " 'result' 'look' 'dead' 'decid' 'sound' 'despit' 'sure' 'arent' 'ye' 'took'\n",
      " 'kind' 'doe' 'origin' 'speak' 'ten\\n' 'weight' 'public' 'id' 'last'\n",
      " 'thing' 'effort' 'guy' 'kept' 'admit' 'alreadi' 'ani' 'given' 'wont'\n",
      " 'becaus' 'actor' 'short' 'purchas' 'market' 'get' 'figur' 'back' 'deserv'\n",
      " 'onlin' 'bed' 'lose' 'enough' 'two' 'got' 'much' 'disc' 'hair' 'michael'\n",
      " 'option' 'cabl' 'side' 'rest' 'im' 'name' 'front' 'anoth' 'effect' 'coffe'\n",
      " '12' 'base' 'fact' 'scari' 'howev' 'etc' 'line' 'mr' 'mostli' 'longer'\n",
      " 'pass' 'brand' 'turn' 'sens' 'product' 'finish' 'consid' 'imag' 'main'\n",
      " 'made' 'respect' 'dvd' 'window' 'pictur' 'write' 'better' 'notic'\n",
      " 'suggest' 'believ' 'posit' 'scene' 'themselv' 'packag' 'free' 'screen'\n",
      " 'felt' 'away' 'descript' 'avail' 'list' 'never' 'produc' 'drop' 'less'\n",
      " 'thought' 'wa' 'onli' 'star' 'bought' 'graphic' 'near' 'break' '15'\n",
      " 'sourc' 'stay' 'program' 'caus' 'player' 'titl' 'materi' 'director'\n",
      " 'instruct' 'jam' 'major' 'hell' 'hope' 'sex' 'clearli' 'said' 'stone'\n",
      " 'entir' 'dri' 'basic' 'pleas' 'sort' 'servic' 'hour' 'someon' 'exampl'\n",
      " 'lost' 'week' 'could' 'difficult' 'number' 'previou' 'would' 'connect'\n",
      " 'storylin' 'might' 'told' 'wrote' 'author' 'shot' 'agre' 'ship' 'gave'\n",
      " 'twice' 'order' 'cup' 'card' 'averag' 'someth' 'state' 'piec' 'point'\n",
      " 'review' 'switch' 'gone' 'miss' 'kill' 'extrem' 'expect' 'water' 'digit'\n",
      " 'smell' 'happen' 'actual' 'rate' 'model' 'act' 'bluray' 'ear' 'idea'\n",
      " 'jump' 'even' 'problem' 'chapter' 'normal' 'pain' 'copi' 'went' 'die'\n",
      " 'anyth' 'oh' 'button' 'concept' 'mention' 'call' 'month' 'isnt' 'otherwis'\n",
      " 'let' 'tast' 'stop' 'qualiti' 'buy' 'expens' 'amount' 'remov' 'couldnt'\n",
      " 'forc' 'thin' 'talk' 'amazon' 'rather' 'appear' 'low' 'cut' 'seem' 'third'\n",
      " 'fell' 'comput' 'pamper' 'version' 'seller' 'apart' 'replac' 'green'\n",
      " 'support' 'content' 'unit' 'correct' 'ill' 'els' 'diaper' 'slow' 'care'\n",
      " 'huge' 'cannot' 'guess' 'spent' 'batteri' 'shock' 'whi' 'doesnt' 'tape'\n",
      " 'design' 'edit' 'advic' 'perhap' 'repeat' 'audio' 'receiv' 'bottom'\n",
      " 'decent' 'page' 'total' 'wasnt' 'predict' 'least' 'credit' 'weak' 'plot'\n",
      " 'dialogu' 'wrong' 'left' 'tri' 'ann' 'confus' 'hollywood' 'soni' 'devic'\n",
      " 'burn' 'dont' 'minut' 'format' 'cost' 'either' 'complet' 'kindl' 'imposs'\n",
      " 'obvious' 'didnt' 'bunch' 'softwar' 'spend' 'box' 'machin' 'camera' 'half'\n",
      " 'mayb' 'okay' 'advertis' 'leak' 'item' 'print' 'plastic' 'script' 'garbag'\n",
      " 'hate' 'save' 'suppos' 'keurig' 'compani' 'warn' 'broken' 'mistak'\n",
      " 'serious' 'flat' 'plain' 'blade' 'stick' 'custom' 'halloween' 'stuck'\n",
      " 'throw' 'ruin' 'instead' 'phone' 'ok' 'paid' 'charg' 'wouldnt' 'pay'\n",
      " 'cheap' 'dissapoint' 'sent' 'lack' 'frustrat' 'none' 'publish' 'send' 'vh'\n",
      " 'fix' 'noth' 'attempt' 'claim' 'sell' 'skip' 'rip' 'rent' 'shame' 'bad'\n",
      " 'broke' 'unfortun' 'bare' 'annoy' 'paper' 'printer' 'avoid' 'sorri' 'fail'\n",
      " 'mess' 'money' 'return' 'bother' 'contact' 'joke' 'disappoint' 'suck'\n",
      " 'bewar' 'unless' 'stupid' 'error' 'dull' 'bore' 'ridicul' 'trash'\n",
      " 'terribl' 'poor' 'wors' 'useless' 'horribl' 'crap' 'worst' 'junk' 'aw'\n",
      " 'wast' 'poorli' 'refund']\n",
      "Number of charged words:  1000\n",
      "Charged words sorted in order from good to bad:  ['awesom' 'excel' 'fantast' 'perfect' 'highli' 'amaz' 'solid' 'uniqu'\n",
      " 'captur' 'perfectli' 'hobbit' 'delight' 'batman' 'adventur' 'tivo'\n",
      " 'favorit' 'beauti' 'great' 'fascin' 'bibl' 'easi' 'appreci' 'best'\n",
      " 'famili' 'journey' 'brilliant' 'love' 'heart' 'charm' 'inspir' 'jazz'\n",
      " 'lover' 'fun' 'masterpiec' 'condit' 'wonder' 'soul' 'rock' 'complaint'\n",
      " 'combin' 'town' 'eragon' 'tolkien' 'young' 'grow' 'tale' 'human' 'age'\n",
      " 'enjoy' 'classic' 'world' 'father' 'comfort' 'collect' 'definit' 'lesson'\n",
      " 'sweet' 'deep' 'mom' 'dream' 'touch' 'must' 'share' 'greatest' 'album'\n",
      " 'illustr' 'quick' 'entertain' 'histori' 'summer' 'satisfi' 'magic' 'de'\n",
      " 'truli' 'cultur' 'faith' 'bring' 'shoe' 'alway' 'vocal' 'eye' 'strong'\n",
      " 'natur' 'earli' 'trip' 'everyon' 'glad' 'relationship' 'defin' 'beat'\n",
      " 'emot' 'wow' 'fiction' 'abil' 'travel' 'life' 'live' 'hook' 'simpl'\n",
      " 'recommend' 'gift' 'thank' 'guitar' 'today' 'danc' 'happi' 'romanc' 'job'\n",
      " 'brought' 'fast' 'centuri' 'especi' 'cool' 'master' 'literatur' 'sister'\n",
      " 'lyric' 'music' 'season' 'portray' 'knowledg' 'rememb' 'death' 'tune'\n",
      " 'well' 'surpris' 'histor' 'manag' 'mysteri' 'challeng' 'modern' 'insight'\n",
      " 'cd' 'listen' 'struggl' 'cat' 'ring' 'exactli' 'twist' 'genr' 'adult'\n",
      " 'clay' 'anim' 'learn' 'scienc' 'help' 'bit' 'nice' 'critic' 'song' 'studi'\n",
      " 'relat' 'prove' 'power' 'becom' 'futur' 'super' 'along' 'rang' 'georg'\n",
      " 'carri' 'detail' 'incred' 'practic' 'aspect' 'plan' 'pack' 'tool' 'add'\n",
      " 'yet' 'la' 'success' 'friend' 'john' 'havent' 'theme' 'suspens' 'secret'\n",
      " 'remind' 'import' 'man' 'voic' 'guid' 'christma' 'true' 'societi' 'home'\n",
      " 'warm' 'america' 'track' 'heavi' 'price' 'rice' 'wife' 'art' 'cri' 'still'\n",
      " 'us' 'ago' 'band' 'hi' 'concert' 'christian' 'laugh' 'room' 'measur'\n",
      " 'valu' 'imagin' 'cast' 'keep' 'brother' 'deal' 'also' 'provid' 'involv'\n",
      " 'everi' 'rare' 'husband' 'deliv' 'alot' 'easili' 'parent' 'night' 'anyon'\n",
      " 'group' 'build' 'colleg' 'includ' 'seri' 'stand' 'son' 'fantasi'\n",
      " 'daughter' 'introduct' 'addit' 'year' 'children' 'teach' 'girl' 'creat'\n",
      " 'youll' 'citi' 'artist' 'togeth' 'boy' 'event' 'overal' 'unlik' 'edg'\n",
      " 'experi' 'accur' 'sing' 'men' 'memori' 'littl' 'although' 'talent' 'battl'\n",
      " 'background' 'reader' 'treat' 'hot' 'action' 'read' 'form' 'mother'\n",
      " 'offic' 'knew' 'cours' 'war' 'dark' 'good' 'humor' 'meet' 'show' 'busi'\n",
      " 'teenag' 'clear' 'perform' 'refer' 'though' 'air' 'hit' 'set' 'step' 'god'\n",
      " 'period' 'singer' 'onc' 'choic' 'person' 'stori' 'tire' 'student' 'pure'\n",
      " 'murder' 'american' 'improv' 'bodi' 'forev' 'countri' 'lord' 'level'\n",
      " 'account' 'begin' 'late' 'soon' 'five' 'present' 'heard' 'recent' 'evil'\n",
      " 'youv' 'describ' 'pop' 'funni' 'light' 'roll' 'area' 'day' 'truth' 'mix'\n",
      " 'question' 'volum' 'adapt' 'discov' 'current' 'sometim' 'put' 'women'\n",
      " 'pair' 'fli' 'play' 'understand' 'school' 'throughout' 'known' 'push'\n",
      " 'featur' 'role' 'chang' 'behind' 'lot' 'clean' 'older' 'style' 'quickli'\n",
      " 'allow' 'train' 'ha' 'view' 'polit' 'toward' 'abl' 'fan' 'translat' 'cute'\n",
      " 'control' 'attent' 'ball' 'face' 'drive' 'interest' 'ive' 'everyth' 'kid'\n",
      " 'veri' 'alon' 'extra' 'car' 'blue' 'teacher' 'feel' 'continu' 'comedi'\n",
      " 'novel' 'final' 'ms' 'doubt' 'place' 'ad' 'plu' 'find' 'pick' 'comic'\n",
      " 'came' 'hand' 'typic' 'process' 'done' 'mind' 'sleep' 'forget'\n",
      " 'soundtrack' 'past' 'top' 'dog' 'wear' 'theyr' 'follow' 'worth' 'hear'\n",
      " 'move' 'earth' 'red' 'come' 'old' 'record' 'take' 'radio' 'first' 'chanc'\n",
      " 'librari' 'new' 'cook' 'way' 'comment' 'moment' 'book' 'sit' 'depth' 'one'\n",
      " 'univers' 'grade' 'arriv' 'saw' 'section' 'head' 'word' 'leav' 'sinc'\n",
      " 'may' 'right' 'metal' 'written' 'dure' 'mani' 'fight' 'lead' 'white'\n",
      " 'realli' '20' 'ever' 'need' 'standard' 'possibl' 'hero' 'handl' 'far'\n",
      " 'tell' 'differ' 'usual' 'next' 'often' 'across' 'wish' 'explain' 'without'\n",
      " 'quit' 'later' 'whole' 'local' 'fire' 'absolut' 'hous' 'around' 'horror'\n",
      " 'somewhat' 'similar' 'inform' 'project' 'photo' 'direct' 'upon' 'forward'\n",
      " 'type' 'impress' 'middl' 'toy' 'troubl' 'seen' 'store' 'select' 'note'\n",
      " 'real' 'watch' 'small' 'requir' 'issu' 'three' 'start' 'class' 'give'\n",
      " 'make' 'topic' 'creativ' 'size' 'goe' 'sequel' 'four' 'peopl' 'system'\n",
      " 'whether' 'time' 'charact' 'pretti' 'test' 'gener' 'straight' 'develop'\n",
      " 'see' 'part' 'use' 'coupl' 'opinion' 'open' 'insid' 'long' 'compar'\n",
      " 'simpli' 'excit' 'film' 'full' 'stuff' 'singl' 'work' 'becam' 'episod'\n",
      " 'thi' 'exist' 'flick' 'research' 'think' 'woman' 'matter' 'answer' 'sever'\n",
      " 'fit' 'prefer' 'due' 'like' 'cover' 'certainli' 'wait' 'color' 'game'\n",
      " 'big' 'run' 'know' 'loud' 'plug' 'black' 'subject' 'special' 'space'\n",
      " 'morn' 'case' 'larg' 'walk' 'end' 'hold' 'french' 'seriou' 'sad' 'releas'\n",
      " 'self' '50' 'languag' 'certain' 'movi' 'regular' 'transfer' 'except'\n",
      " 'limit' 'search' 'babi' 'check' 'mark' 'close' 'messag' 'found' 'fall'\n",
      " 'want' 'particular' 'hard' 'video' 'instal' 'bag' 'king' 'realiz' 'child'\n",
      " 'beyond' 'mean' 'anyway' 'skin' 'fine' 'second' 'cant' 'fill' 'tv' 'befor'\n",
      " '100' 'english' 'pull' 'almost' 'date' 'go' '30' 'nearli' 'mine' 'offer'\n",
      " '10' 'within' 'taken' 'ask' 'writer' 'contain' 'text' 'reason' 'say'\n",
      " 'high' 'probabl' 'immedi' 'result' 'look' 'dead' 'decid' 'sound' 'despit'\n",
      " 'sure' 'arent' 'ye' 'took' 'kind' 'doe' 'origin' 'speak' 'ten\\n' 'weight'\n",
      " 'public' 'id' 'last' 'thing' 'effort' 'guy' 'kept' 'admit' 'alreadi' 'ani'\n",
      " 'given' 'wont' 'becaus' 'actor' 'short' 'purchas' 'market' 'get' 'figur'\n",
      " 'back' 'deserv' 'onlin' 'bed' 'lose' 'enough' 'two' 'got' 'much' 'disc'\n",
      " 'hair' 'michael' 'option' 'cabl' 'side' 'rest' 'im' 'name' 'front' 'anoth'\n",
      " 'effect' 'coffe' '12' 'base' 'fact' 'scari' 'howev' 'etc' 'line' 'mr'\n",
      " 'mostli' 'longer' 'pass' 'brand' 'turn' 'sens' 'product' 'finish' 'consid'\n",
      " 'imag' 'main' 'made' 'respect' 'dvd' 'window' 'pictur' 'write' 'better'\n",
      " 'notic' 'suggest' 'believ' 'posit' 'scene' 'themselv' 'packag' 'free'\n",
      " 'screen' 'felt' 'away' 'descript' 'avail' 'list' 'never' 'produc' 'drop'\n",
      " 'less' 'thought' 'wa' 'onli' 'star' 'bought' 'graphic' 'near' 'break' '15'\n",
      " 'sourc' 'stay' 'program' 'caus' 'player' 'titl' 'materi' 'director'\n",
      " 'instruct' 'jam' 'major' 'hell' 'hope' 'sex' 'clearli' 'said' 'stone'\n",
      " 'entir' 'dri' 'basic' 'pleas' 'sort' 'servic' 'hour' 'someon' 'exampl'\n",
      " 'lost' 'week' 'could' 'difficult' 'number' 'previou' 'would' 'connect'\n",
      " 'storylin' 'might' 'told' 'wrote' 'author' 'shot' 'agre' 'ship' 'gave'\n",
      " 'twice' 'order' 'cup' 'card' 'averag' 'someth' 'state' 'piec' 'point'\n",
      " 'review' 'switch' 'gone' 'miss' 'kill' 'extrem' 'expect' 'water' 'digit'\n",
      " 'smell' 'happen' 'actual' 'rate' 'model' 'act' 'bluray' 'ear' 'idea'\n",
      " 'jump' 'even' 'problem' 'chapter' 'normal' 'pain' 'copi' 'went' 'die'\n",
      " 'anyth' 'oh' 'button' 'concept' 'mention' 'call' 'month' 'isnt' 'otherwis'\n",
      " 'let' 'tast' 'stop' 'qualiti' 'buy' 'expens' 'amount' 'remov' 'couldnt'\n",
      " 'forc' 'thin' 'talk' 'amazon' 'rather' 'appear' 'low' 'cut' 'seem' 'third'\n",
      " 'fell' 'comput' 'pamper' 'version' 'seller' 'apart' 'replac' 'green'\n",
      " 'support' 'content' 'unit' 'correct' 'ill' 'els' 'diaper' 'slow' 'care'\n",
      " 'huge' 'cannot' 'guess' 'spent' 'batteri' 'shock' 'whi' 'doesnt' 'tape'\n",
      " 'design' 'edit' 'advic' 'perhap' 'repeat' 'audio' 'receiv' 'bottom'\n",
      " 'decent' 'page' 'total' 'wasnt' 'predict' 'least' 'credit' 'weak' 'plot'\n",
      " 'dialogu' 'wrong' 'left' 'tri' 'ann' 'confus' 'hollywood' 'soni' 'devic'\n",
      " 'burn' 'dont' 'minut' 'format' 'cost' 'either' 'complet' 'kindl' 'imposs'\n",
      " 'obvious' 'didnt' 'bunch' 'softwar' 'spend' 'box' 'machin' 'camera' 'half'\n",
      " 'mayb' 'okay' 'advertis' 'leak' 'item' 'print' 'plastic' 'script' 'garbag'\n",
      " 'hate' 'save' 'suppos' 'keurig' 'compani' 'warn' 'broken' 'mistak'\n",
      " 'serious' 'flat' 'plain' 'blade' 'stick' 'custom' 'halloween' 'stuck'\n",
      " 'throw' 'ruin' 'instead' 'phone' 'ok' 'paid' 'charg' 'wouldnt' 'pay'\n",
      " 'cheap' 'dissapoint' 'sent' 'lack' 'frustrat' 'none' 'publish' 'send' 'vh'\n",
      " 'fix' 'noth' 'attempt' 'claim' 'sell' 'skip' 'rip' 'rent' 'shame' 'bad'\n",
      " 'broke' 'unfortun' 'bare' 'annoy' 'paper' 'printer' 'avoid' 'sorri' 'fail'\n",
      " 'mess' 'money' 'return' 'bother' 'contact' 'joke' 'disappoint' 'suck'\n",
      " 'bewar' 'unless' 'stupid' 'error' 'dull' 'bore' 'ridicul' 'trash'\n",
      " 'terribl' 'poor' 'wors' 'useless' 'horribl' 'crap' 'worst' 'junk' 'aw'\n",
      " 'wast' 'poorli' 'refund']\n"
     ]
    },
    {
     "data": {
      "image/png": "[encoded data removed]",
      "text/plain": [
       "<matplotlib.figure.Figure at 0x120d42208>"
      ]
     },
     "metadata": {},
     "output_type": "display_data"
    }
   ],
   "source": [
    "# for each word, differential_count = (# good - # bad) / (# total)\n",
    "differential_counts = (good_word_counts - bad_word_counts) / (good_word_counts + bad_word_counts)\n",
    "# words in order of decreasing differential\n",
    "decreasing_differential_words = \\\n",
    "    np.array([x for _,x in (sorted(list(zip(differential_counts, words[1:]))))[::-1]])\n",
    "decreasing_differential_counts = np.array(sorted(differential_counts)[::-1])\n",
    "\n",
    "threshold = 0\n",
    "\n",
    "neutral_word_indices = abs(decreasing_differential_counts) < threshold\n",
    "charged_word_indices = abs(decreasing_differential_counts) >= threshold\n",
    "good_word_indices = decreasing_differential_counts >= threshold\n",
    "bad_word_indices = decreasing_differential_counts <= -threshold\n",
    "\n",
    "neutral_words = decreasing_differential_words[neutral_word_indices]\n",
    "charged_words = decreasing_differential_words[charged_word_indices]\n",
    "good_words = decreasing_differential_words[good_word_indices]\n",
    "bad_words = decreasing_differential_words[bad_word_indices]\n",
    "\n",
    "print(\"Number of neutral words: \", len(neutral_words))\n",
    "print(\"Neutral words: \", neutral_words)\n",
    "print(\"Number of good words: \", len(good_words))\n",
    "print(\"Good words sorted in order from really good to good: \", good_words)\n",
    "print(\"Number of bad words: \", len(bad_words))\n",
    "print(\"Bad words sorted in order from bad to really bad: \", bad_words)\n",
    "print(\"Number of charged words: \", len(charged_words))\n",
    "print(\"Charged words sorted in order from good to bad: \", charged_words)\n",
    "\n",
    "# print(\"All words sorted in order from good to bad: \", decreasing_differential_words)\n",
    "plt.title(\"Differential word counts\")\n",
    "plt.bar(np.arange(len(words) - 1), decreasing_differential_counts, label=\"Differential word count\")\n",
    "plt.xlabel(\"Word number (index in list of words)\")\n",
    "plt.ylabel(\"(# good - # bad) / (# total)\")\n",
    "plt.legend()\n",
    "plt.show()"
   ]
  },
  {
   "cell_type": "code",
   "execution_count": 24,
   "metadata": {
    "collapsed": true
   },
   "outputs": [],
   "source": [
    "\"\"\"\n",
    "Takes in a numpy array consisting of outputs for our test set and\n",
    "outputs a file in the correct submission format (as per the sample\n",
    "submission file)\n",
    "\"\"\"\n",
    "def make_submission_file(arr, fname = \"submission.txt\"):\n",
    "    f = open(fname, 'w')\n",
    "    f.write(\"Id,Prediction\\n\")\n",
    "    for i in range(len(arr)):\n",
    "        f.write(str(i + 1) + \",\" + str(arr[i]) + '\\n')\n",
    "    f.close()\n",
    "    \n",
    "\"\"\"\n",
    "Normalize data by computing z score (x - mu) / std dev\n",
    "and add column of ones\n",
    "\"\"\"\n",
    "def normalize(X):\n",
    "    return X # normalizing doesn't seem to help so we don't do it\n",
    "    # Normalize our input data X\n",
    "    for i in range(len(X[0])):\n",
    "        X[:, i] = (X[:, i] - np.mean(X[:, i])) / np.std(X[:, i])\n",
    "    # Add column of 1s in the first column\n",
    "    X = np.insert(X, 0, 1, axis=1)\n",
    "    return X\n",
    "\n",
    "\"\"\"\n",
    "Calls helper functions to do all pre-processing of data\n",
    "\"\"\"\n",
    "def process(X, charged_word_indices):\n",
    "    # Normalize counts by mean and standard deviation (z-score) and add one column\n",
    "    # X = normalize (X) # seems to make the model worse?\n",
    "    # Remove columns corresponding to neutral words\n",
    "    X = X[:, charged_word_indices]\n",
    "    return X"
   ]
  },
  {
   "cell_type": "code",
   "execution_count": 25,
   "metadata": {},
   "outputs": [],
   "source": [
    "x_train_original = process(unprocessed_x_train_original, charged_word_indices)\n",
    "x_test = process(test_data, charged_word_indices)"
   ]
  },
  {
   "cell_type": "code",
   "execution_count": 146,
   "metadata": {},
   "outputs": [],
   "source": [
    "# Split into training and validation sets using sklearn function\n",
    "# I had implemented it but it was much messier than this\n",
    "x_train, x_val, y_train, y_val \\\n",
    "        = train_test_split(x_train_original, y_train_original, test_size = 0, random_state = None)\n",
    "        # = train_test_split(x_train_original, y_train_original, test_size = 0.2, random_state = 1)"
   ]
  },
  {
   "cell_type": "code",
   "execution_count": 147,
   "metadata": {
    "scrolled": true
   },
   "outputs": [
    {
     "name": "stdout",
     "output_type": "stream",
     "text": [
      "(20000, 1000)\n",
      "(0, 1000)\n",
      "(10000, 1000)\n"
     ]
    }
   ],
   "source": [
    "print(np.shape(x_train))\n",
    "print(np.shape(x_val))\n",
    "print(np.shape(x_test))"
   ]
  },
  {
   "cell_type": "code",
   "execution_count": 148,
   "metadata": {},
   "outputs": [
    {
     "name": "stdout",
     "output_type": "stream",
     "text": [
      "Train on 20000 samples, validate on 0 samples\n",
      "Epoch 1/10\n",
      "1s - loss: 0.4268 - acc: 0.8093\n",
      "Epoch 2/10\n",
      "1s - loss: 0.3315 - acc: 0.8608\n",
      "Epoch 3/10\n",
      "1s - loss: 0.3103 - acc: 0.8739\n",
      "Epoch 4/10\n",
      "1s - loss: 0.2895 - acc: 0.8854\n",
      "Epoch 5/10\n",
      "1s - loss: 0.2690 - acc: 0.8960\n",
      "Epoch 6/10\n",
      "1s - loss: 0.2522 - acc: 0.9052\n",
      "Epoch 7/10\n",
      "1s - loss: 0.2357 - acc: 0.9113\n",
      "Epoch 8/10\n",
      "1s - loss: 0.2192 - acc: 0.9218\n",
      "Epoch 9/10\n",
      "1s - loss: 0.2035 - acc: 0.9278\n",
      "Epoch 10/10\n",
      "1s - loss: 0.1894 - acc: 0.9361\n"
     ]
    },
    {
     "ename": "ValueError",
     "evalue": "not enough values to unpack (expected 2, got 0)",
     "output_type": "error",
     "traceback": [
      "\u001b[0;31m---------------------------------------------------------------------------\u001b[0m",
      "\u001b[0;31mValueError\u001b[0m                                Traceback (most recent call last)",
      "\u001b[0;32m<ipython-input-148-23f607c8f3d2>\u001b[0m in \u001b[0;36m<module>\u001b[0;34m()\u001b[0m\n\u001b[1;32m     38\u001b[0m \u001b[0;31m# Evaluate on validation set\u001b[0m\u001b[0;34m\u001b[0m\u001b[0;34m\u001b[0m\u001b[0m\n\u001b[1;32m     39\u001b[0m \u001b[0;34m\u001b[0m\u001b[0m\n\u001b[0;32m---> 40\u001b[0;31m \u001b[0mloss\u001b[0m\u001b[0;34m,\u001b[0m \u001b[0macc\u001b[0m \u001b[0;34m=\u001b[0m \u001b[0mmodel\u001b[0m\u001b[0;34m.\u001b[0m\u001b[0mevaluate\u001b[0m\u001b[0;34m(\u001b[0m\u001b[0mx_val\u001b[0m\u001b[0;34m,\u001b[0m \u001b[0my_val\u001b[0m\u001b[0;34m,\u001b[0m \u001b[0mverbose\u001b[0m\u001b[0;34m=\u001b[0m\u001b[0;36m0\u001b[0m\u001b[0;34m)\u001b[0m\u001b[0;34m\u001b[0m\u001b[0m\n\u001b[0m\u001b[1;32m     41\u001b[0m \u001b[0mprint\u001b[0m\u001b[0;34m(\u001b[0m\u001b[0;34m'Size: %d, Validation Accuracy: %f'\u001b[0m \u001b[0;34m%\u001b[0m \u001b[0;34m(\u001b[0m\u001b[0msize\u001b[0m\u001b[0;34m,\u001b[0m \u001b[0macc\u001b[0m\u001b[0;34m*\u001b[0m\u001b[0;36m100\u001b[0m\u001b[0;34m)\u001b[0m\u001b[0;34m)\u001b[0m\u001b[0;34m\u001b[0m\u001b[0m\n",
      "\u001b[0;31mValueError\u001b[0m: not enough values to unpack (expected 2, got 0)"
     ]
    }
   ],
   "source": [
    "#sizes = [10, 20, 30, 40, 50, 60, 70, 80, 90]\n",
    "sizes = [50, 60, 70]\n",
    "size = 10\n",
    "#for size in sizes:\n",
    "# Define network\n",
    "\n",
    "\n",
    "model = Sequential()\n",
    "model.add(Dense(100, input_shape=(len(x_train[0]),)))\n",
    "#model.add(BatchNormalization())\n",
    "model.add(Activation('relu'))\n",
    "model.add(Dropout(0.05))\n",
    "\n",
    "model.add(Dense(30)) \n",
    "#model.add(BatchNormalization())\n",
    "model.add(Activation('sigmoid'))\n",
    "model.add(Dropout(0.05))\n",
    "\n",
    "model.add(Dense(30)) \n",
    "#model.add(BatchNormalization())\n",
    "model.add(Activation('sigmoid'))\n",
    "model.add(Dropout(0.05))\n",
    "\n",
    "\n",
    "#     model.add(Dense(25)) \n",
    "#     # model.add(BatchNormalization())\n",
    "#     model.add(Activation('sigmoid'))\n",
    "#     model.add(Dropout(0.5))\n",
    "\n",
    "model.add(Dense(1))\n",
    "model.add(Activation('sigmoid'))\n",
    "\n",
    "\n",
    "# compile network\n",
    "model.compile(loss='binary_crossentropy', optimizer='rmsprop', metrics=['accuracy'])\n",
    "# fit network\n",
    "model.fit(x_train, y_train, epochs=10, verbose=2, validation_data = (x_val, y_val)) # verbose = 2\n",
    "# Evaluate on validation set\n",
    "\n",
    "loss, acc = model.evaluate(x_val, y_val, verbose=0)\n",
    "print('Size: %d, Validation Accuracy: %f' % (size, acc*100))"
   ]
  },
  {
   "cell_type": "code",
   "execution_count": 36,
   "metadata": {},
   "outputs": [
    {
     "name": "stdout",
     "output_type": "stream",
     "text": [
      "3872/4000 [============================>.] - ETA: 0sRaw prediction scores:  [ 0.28335112  0.97171086  0.01353279 ...,  0.51157665  0.01633516\n",
      "  0.01240897]\n",
      "Predictions (picking raw_score >= 0.5 as positives):  [0 1 0 ..., 1 0 0]\n",
      "Actual y values:  [ 0.  1.  0. ...,  0.  0.  0.]\n",
      "Number of correct predictions:  3393\n",
      "Number of incorrect predictions:  607\n"
     ]
    },
    {
     "data": {
      "image/png": "[encoded data removed]",
      "text/plain": [
       "<matplotlib.figure.Figure at 0x120e48c18>"
      ]
     },
     "metadata": {},
     "output_type": "display_data"
    }
   ],
   "source": [
    "# Making pretty plots...not for use in submission\n",
    "y_val_predictions = model.predict(x_val, verbose=1)\n",
    "y_val_predictions = y_val_predictions.flatten()\n",
    "lst = (y_val_predictions >= 0.5).astype(int)\n",
    "print(\"Raw prediction scores: \", y_val_predictions)\n",
    "print(\"Predictions (picking raw_score >= 0.5 as positives): \", lst)\n",
    "print(\"Actual y values: \", y_val)\n",
    "print(\"Number of correct predictions: \", (y_val == lst).sum())\n",
    "print(\"Number of incorrect predictions: \", (y_val != lst).sum())\n",
    "y_val_predictions_0 = y_val_predictions[(np.where(y_val == 0)[0])]\n",
    "y_val_predictions_1 = y_val_predictions[(np.where(y_val == 1)[0])]\n",
    "plt.clf()\n",
    "plt.title(\"Comparing raw score of predicted $y$ to actual $y$\")\n",
    "plt.hist(np.concatenate((y_val_predictions_0, y_val_predictions_1)), stacked=True, label=\"y = 0\")\n",
    "plt.hist(y_val_predictions_1, stacked=True, label=\"y = 1\")\n",
    "plt.xlabel(\"Predicted y (raw score)\")\n",
    "plt.legend()\n",
    "plt.show()"
   ]
  },
  {
   "cell_type": "code",
   "execution_count": 149,
   "metadata": {},
   "outputs": [
    {
     "name": "stdout",
     "output_type": "stream",
     "text": [
      " 9184/10000 [==========================>...] - ETA: 0s"
     ]
    }
   ],
   "source": [
    "predictions = model.predict(x_test, verbose=1)\n",
    "predictions = predictions.flatten()"
   ]
  },
  {
   "cell_type": "code",
   "execution_count": 150,
   "metadata": {},
   "outputs": [
    {
     "name": "stdout",
     "output_type": "stream",
     "text": [
      "[ 0.89701825  0.98246586  0.62121457 ...,  0.01700638  0.98902076\n",
      "  0.02038011]\n",
      "[1 1 1 ..., 0 1 0]\n"
     ]
    },
    {
     "data": {
      "image/png": "[encoded data removed]",
      "text/plain": [
       "<matplotlib.figure.Figure at 0x11c705b00>"
      ]
     },
     "metadata": {},
     "output_type": "display_data"
    }
   ],
   "source": [
    "print(predictions)\n",
    "lst = (predictions >= 0.5).astype(int)\n",
    "print(lst)\n",
    "plt.hist(predictions)\n",
    "plt.show()"
   ]
  },
  {
   "cell_type": "code",
   "execution_count": 14,
   "metadata": {
    "collapsed": true
   },
   "outputs": [],
   "source": [
    "#print(words)"
   ]
  },
  {
   "cell_type": "code",
   "execution_count": 151,
   "metadata": {
    "collapsed": true
   },
   "outputs": [],
   "source": [
    "make_submission_file(lst)"
   ]
  },
  {
   "cell_type": "code",
   "execution_count": 134,
   "metadata": {},
   "outputs": [
    {
     "name": "stdout",
     "output_type": "stream",
     "text": [
      "0.9976875\n",
      "0.82525\n"
     ]
    }
   ],
   "source": [
    "# Random forest model\n",
    "x_train = training_data[:16000, 1:]\n",
    "y_train = training_data[:16000, 0]\n",
    "\n",
    "x_val = training_data[16000:, 1:]\n",
    "y_val = training_data[16000:, 0]\n",
    "\n",
    "def classification_err(y, real_y):\n",
    "    \"\"\"\n",
    "    This function returns the classification error between two equally-sized vectors of \n",
    "    labels; this is the fraction of samples for which the labels differ.\n",
    "    \n",
    "    Inputs:\n",
    "        y: (N, ) shaped array of predicted labels\n",
    "        real_y: (N, ) shaped array of true labels\n",
    "    Output:\n",
    "        Scalar classification error\n",
    "    \"\"\"\n",
    "    tot_err = 0\n",
    "    \n",
    "    # Count how many samples the labels differ between the two vectors\n",
    "    for i in range(len(y)):\n",
    "        if y[i] != real_y[i]:\n",
    "            tot_err += 1\n",
    "    \n",
    "    # Get the fraction of samples for which the labels differ\n",
    "    classification_error = float(tot_err) / len(y)\n",
    "    \n",
    "    return classification_error\n",
    "    \n",
    "def eval_tree_based_model_max_depth(clf, max_depth, X_train, y_train, X_test, y_test):\n",
    "    \"\"\"\n",
    "    This function evaluates the given classifier (either a decision tree or random forest) at all of the \n",
    "    minimum leaf size parameters in the vector min_samples_leaf, using the given training and testing\n",
    "    data. It returns two vector, with the training and testing classification errors.\n",
    "    \n",
    "    Inputs:\n",
    "        clf: either a decision tree or random forest classifier object\n",
    "        min_samples_leaf: a (T, ) vector of all the min_samples_leaf stopping condition parameters \n",
    "                            to test, where T is the number of parameters to test\n",
    "        X_train: (N, D) matrix of training samples.\n",
    "        y_train: (N, ) vector of training labels.\n",
    "        X_test: (N, D) matrix of test samples\n",
    "        y_test: (N, ) vector of test labels\n",
    "    Output:\n",
    "        train_err: (T, ) vector of classification errors on the training data\n",
    "        test_err: (T, ) vector of classification errors on the test data\n",
    "    \"\"\"\n",
    "    train_err = []\n",
    "    val_err = []\n",
    "    \n",
    "    # Use minimum leaf size parameters to create, train, and test a classifier\n",
    "\n",
    "    # Make a new copy of the classifier, which allows us to \"forget\" about the\n",
    "    # fitting from the previous min_leaf value\n",
    "    for depth in max_depth:\n",
    "        clf_copy = base.clone(clf)\n",
    "        clf_copy.set_params(max_depth=depth)\n",
    "        clf_copy.fit(X_train, y_train)\n",
    "\n",
    "        train_predict = clf_copy.predict(X_train)\n",
    "        test_predict = clf_copy.predict(X_test)\n",
    "\n",
    "        train_err.append(classification_err(train_predict, y_train))\n",
    "        val_err.append(classification_err(test_predict, y_test))\n",
    "\n",
    "    return train_err, val_err\n",
    "\n",
    "\n",
    "\n",
    "n_estimators = 200\n",
    "clf = RandomForestClassifier(n_estimators = n_estimators, criterion = 'gini')\n",
    "\n",
    "max_depth = [70]\n",
    "\n",
    "#max_depth = np.arange(10, 51)\n",
    "\n",
    "train_err, test_err = eval_tree_based_model_max_depth(clf, max_depth, x_train, y_train, x_val, y_val)\n",
    "\n",
    "train_accuracy = 1 - train_err[0]\n",
    "test_accuracy = 1 - test_err[0]\n",
    "\n",
    "print(train_accuracy)\n",
    "print(test_accuracy)"
   ]
  },
  {
   "cell_type": "code",
   "execution_count": null,
   "metadata": {
    "collapsed": true
   },
   "outputs": [],
   "source": [
    "x_train = training_data[:, 1:]\n",
    "y_train = training_data[:, 0]\n",
    "x_test = test_data\n",
    "\n",
    "def random_forest_predict(clf, max_depth, X_train, y_train, X_test):\n",
    "    \"\"\"\n",
    "    This function evaluates the given classifier (either a decision tree or random forest) at all of the \n",
    "    minimum leaf size parameters in the vector min_samples_leaf, using the given training and testing\n",
    "    data. It returns two vector, with the training and testing classification errors.\n",
    "    \n",
    "    Inputs:\n",
    "        clf: either a decision tree or random forest classifier object\n",
    "        min_samples_leaf: a (T, ) vector of all the min_samples_leaf stopping condition parameters \n",
    "                            to test, where T is the number of parameters to test\n",
    "        X_train: (N, D) matrix of training samples.\n",
    "        y_train: (N, ) vector of training labels.\n",
    "        X_test: (N, D) matrix of test samples\n",
    "        y_test: (N, ) vector of test labels\n",
    "    Output:\n",
    "        train_err: (T, ) vector of classification errors on the training data\n",
    "        test_err: (T, ) vector of classification errors on the test data\n",
    "    \"\"\"\n",
    "    train_err = []\n",
    "    val_err = []\n",
    "    \n",
    "    # Use minimum leaf size parameters to create, train, and test a classifier\n",
    "\n",
    "    # Make a new copy of the classifier, which allows us to \"forget\" about the\n",
    "    # fitting from the previous min_leaf value\n",
    "    clf_copy = base.clone(clf)\n",
    "    clf_copy.set_params(max_depth= max_depth)\n",
    "    clf_copy.fit(X_train, y_train)\n",
    "\n",
    "    train_predict = clf_copy.predict(X_train)\n",
    "    test_predict = clf_copy.predict(X_test)\n",
    "\n",
    "    train_err.append(classification_err(train_predict, y_train))\n",
    "\n",
    "    return train_err, test_predict\n",
    "\n",
    "train_err, test_predict = random_forest_predict(clf, 49, x_train, y_train, x_test)\n",
    "\n",
    "print(train_err)\n",
    "\n",
    "print(test_predict)"
   ]
  },
  {
   "cell_type": "code",
   "execution_count": 144,
   "metadata": {},
   "outputs": [
    {
     "data": {
      "text/plain": [
       "array([1, 1, 0, ..., 0, 1, 0])"
      ]
     },
     "execution_count": 144,
     "metadata": {},
     "output_type": "execute_result"
    }
   ],
   "source": [
    "test_predict.astype(int)"
   ]
  },
  {
   "cell_type": "code",
   "execution_count": null,
   "metadata": {
    "collapsed": true
   },
   "outputs": [],
   "source": [
    "plt.figure()\n",
    "plt.plot(max_depth, test_err, label='Testing error')\n",
    "plt.plot(max_depth, train_err, label='Training error')\n",
    "plt.xlabel('Maximum Tree Depth')\n",
    "plt.ylabel('Validation error')\n",
    "plt.title('Decision Tree with Gini Impurity and Maximum Tree Depth')\n",
    "plt.legend(loc=0, shadow=True, fontsize='x-large')\n",
    "plt.show()\n",
    "\n",
    "print('Test error minimized at max_depth = %i' % max_depth[np.argmin(test_err)])"
   ]
  },
  {
   "cell_type": "code",
   "execution_count": 145,
   "metadata": {
    "collapsed": true
   },
   "outputs": [],
   "source": [
    "make_submission_file(test_predict.astype(int))"
   ]
  },
  {
   "cell_type": "code",
   "execution_count": 133,
   "metadata": {},
   "outputs": [
    {
     "name": "stdout",
     "output_type": "stream",
     "text": [
      "10000\n"
     ]
    }
   ],
   "source": [
    "print(len(test_predict))"
   ]
  }
 ],
 "metadata": {
  "kernelspec": {
   "display_name": "Python 3",
   "language": "python",
   "name": "python3"
  },
  "language_info": {
   "codemirror_mode": {
    "name": "ipython",
    "version": 3
   },
   "file_extension": ".py",
   "mimetype": "text/x-python",
   "name": "python",
   "nbconvert_exporter": "python",
   "pygments_lexer": "ipython3",
   "version": "3.6.2"
  }
 },
 "nbformat": 4,
 "nbformat_minor": 2
}
