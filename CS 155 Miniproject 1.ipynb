{
 "cells": [
  {
   "cell_type": "markdown",
   "metadata": {},
   "source": [
    "# Kaggle Miniproject 1"
   ]
  },
  {
   "cell_type": "markdown",
   "metadata": {},
   "source": [
    "## Team Members:\n",
    "### Karthik Karnik \n",
    "### Kapil Sinha\n",
    "### Anvita Mishra"
   ]
  },
  {
   "cell_type": "code",
   "execution_count": 15,
   "metadata": {},
   "outputs": [],
   "source": [
    "import numpy as np\n",
    "from string import punctuation\n",
    "from os import listdir\n",
    "from collections import Counter\n",
    "from nltk.corpus import stopwords\n",
    "from keras.preprocessing.text import Tokenizer\n",
    "from keras.models import Sequential\n",
    "from keras.layers import Dense\n",
    "from keras.layers import Dropout"
   ]
  },
  {
   "cell_type": "code",
   "execution_count": 16,
   "metadata": {},
   "outputs": [],
   "source": [
    "with open(\"training_data.txt\") as f:\n",
    "    words = f.readline().split(' ')\n",
    "training_data = np.loadtxt(\"training_data.txt\", skiprows = 1)\n",
    "test_data = np.loadtxt(\"test_data.txt\", skiprows = 1)"
   ]
  },
  {
   "cell_type": "code",
   "execution_count": 31,
   "metadata": {},
   "outputs": [],
   "source": [
    "x_train = training_data[:, 1:]\n",
    "y_train = training_data[:, 0]"
   ]
  },
  {
   "cell_type": "code",
   "execution_count": 33,
   "metadata": {},
   "outputs": [
    {
     "data": {
      "text/plain": [
       "(20000, 1000)"
      ]
     },
     "execution_count": 33,
     "metadata": {},
     "output_type": "execute_result"
    }
   ],
   "source": [
    "np.shape(x_train)\n"
   ]
  },
  {
   "cell_type": "code",
   "execution_count": 38,
   "metadata": {},
   "outputs": [
    {
     "name": "stdout",
     "output_type": "stream",
     "text": [
      "Epoch 1/50\n",
      "0s - loss: 0.4055 - acc: 0.8264\n",
      "Epoch 2/50\n",
      "0s - loss: 0.3252 - acc: 0.8638\n",
      "Epoch 3/50\n",
      "0s - loss: 0.2973 - acc: 0.8746\n",
      "Epoch 4/50\n",
      "0s - loss: 0.2690 - acc: 0.8878\n",
      "Epoch 5/50\n",
      "0s - loss: 0.2388 - acc: 0.8999\n",
      "Epoch 6/50\n",
      "1s - loss: 0.2076 - acc: 0.9189\n",
      "Epoch 7/50\n",
      "0s - loss: 0.1746 - acc: 0.9362\n",
      "Epoch 8/50\n",
      "0s - loss: 0.1423 - acc: 0.9501\n",
      "Epoch 9/50\n",
      "0s - loss: 0.1134 - acc: 0.9649\n",
      "Epoch 10/50\n",
      "0s - loss: 0.0870 - acc: 0.9775\n",
      "Epoch 11/50\n",
      "0s - loss: 0.0668 - acc: 0.9845\n",
      "Epoch 12/50\n",
      "0s - loss: 0.0499 - acc: 0.9905\n",
      "Epoch 13/50\n",
      "0s - loss: 0.0369 - acc: 0.9945\n",
      "Epoch 14/50\n",
      "0s - loss: 0.0269 - acc: 0.9969\n",
      "Epoch 15/50\n",
      "0s - loss: 0.0198 - acc: 0.9978\n",
      "Epoch 16/50\n",
      "0s - loss: 0.0140 - acc: 0.9988\n",
      "Epoch 17/50\n",
      "0s - loss: 0.0099 - acc: 0.9992\n",
      "Epoch 18/50\n",
      "0s - loss: 0.0072 - acc: 0.9997\n",
      "Epoch 19/50\n",
      "0s - loss: 0.0058 - acc: 0.9997\n",
      "Epoch 20/50\n",
      "0s - loss: 0.0057 - acc: 0.9997\n",
      "Epoch 21/50\n",
      "0s - loss: 0.0036 - acc: 0.9998\n",
      "Epoch 22/50\n",
      "0s - loss: 0.0022 - acc: 0.9999\n",
      "Epoch 23/50\n",
      "0s - loss: 0.0016 - acc: 0.9999\n",
      "Epoch 24/50\n",
      "0s - loss: 0.0013 - acc: 0.9999\n",
      "Epoch 25/50\n",
      "1s - loss: 0.0012 - acc: 0.9999\n",
      "Epoch 26/50\n",
      "0s - loss: 0.0010 - acc: 0.9999\n",
      "Epoch 27/50\n",
      "0s - loss: 8.3166e-04 - acc: 0.9998\n",
      "Epoch 28/50\n",
      "0s - loss: 7.0452e-04 - acc: 0.9999\n",
      "Epoch 29/50\n",
      "0s - loss: 6.3625e-04 - acc: 0.9999\n",
      "Epoch 30/50\n",
      "0s - loss: 5.3519e-04 - acc: 0.9999\n",
      "Epoch 31/50\n",
      "0s - loss: 0.0036 - acc: 0.9990\n",
      "Epoch 32/50\n",
      "0s - loss: 0.0165 - acc: 0.9949\n",
      "Epoch 33/50\n",
      "0s - loss: 0.0017 - acc: 0.9997\n",
      "Epoch 34/50\n",
      "0s - loss: 7.2212e-04 - acc: 0.9999\n",
      "Epoch 35/50\n",
      "0s - loss: 5.8316e-04 - acc: 0.9999\n",
      "Epoch 36/50\n",
      "0s - loss: 5.5687e-04 - acc: 0.9999\n",
      "Epoch 37/50\n",
      "0s - loss: 4.6867e-04 - acc: 0.9999\n",
      "Epoch 38/50\n",
      "1s - loss: 4.7450e-04 - acc: 0.9999\n",
      "Epoch 39/50\n",
      "0s - loss: 5.2125e-04 - acc: 0.9999\n",
      "Epoch 40/50\n",
      "0s - loss: 4.1413e-04 - acc: 0.9999\n",
      "Epoch 41/50\n",
      "0s - loss: 4.8920e-04 - acc: 0.9999\n",
      "Epoch 42/50\n",
      "0s - loss: 3.8187e-04 - acc: 0.9999\n",
      "Epoch 43/50\n",
      "0s - loss: 3.4045e-04 - acc: 0.9999\n",
      "Epoch 44/50\n",
      "0s - loss: 3.9671e-04 - acc: 0.9999\n",
      "Epoch 45/50\n",
      "0s - loss: 3.5857e-04 - acc: 0.9999\n",
      "Epoch 46/50\n",
      "0s - loss: 4.1048e-04 - acc: 0.9999\n",
      "Epoch 47/50\n",
      "0s - loss: 2.8962e-04 - acc: 0.9999\n",
      "Epoch 48/50\n",
      "0s - loss: 3.5143e-04 - acc: 0.9998\n",
      "Epoch 49/50\n",
      "0s - loss: 2.5593e-04 - acc: 0.9999\n",
      "Epoch 50/50\n",
      "0s - loss: 3.3060e-04 - acc: 0.9999\n"
     ]
    },
    {
     "data": {
      "text/plain": [
       "<keras.callbacks.History at 0x1140bbac8>"
      ]
     },
     "execution_count": 38,
     "metadata": {},
     "output_type": "execute_result"
    }
   ],
   "source": [
    "#n_words = Xtest.shape[1]\n",
    "# define network\n",
    "model = Sequential()\n",
    "model.add(Dense(50, input_shape=(1000, ), activation='relu'))\n",
    "model.add(Dense(1, activation='sigmoid'))\n",
    "model.add(Dense(1, activation='sigmoid'))\n",
    "# compile network\n",
    "model.compile(loss='binary_crossentropy', optimizer='adam', metrics=['accuracy'])\n",
    "# fit network\n",
    "model.fit(x_train, y_train, epochs=50, verbose=2)\n",
    "# evaluate\n",
    "#loss, acc = model.evaluate(Xtest, ytest, verbose=0)\n",
    "#print('Test Accuracy: %f' % (acc*100))"
   ]
  },
  {
   "cell_type": "code",
   "execution_count": 40,
   "metadata": {},
   "outputs": [
    {
     "name": "stdout",
     "output_type": "stream",
     "text": [
      " 6880/10000 [===================>..........] - ETA: 0s"
     ]
    }
   ],
   "source": [
    "predictions = model.predict(test_data, verbose=1)\n"
   ]
  },
  {
   "cell_type": "code",
   "execution_count": 57,
   "metadata": {},
   "outputs": [],
   "source": [
    "#boolList = predictions >= 1\n",
    "lst = np.where(predictions >= 1, 1, 0)\n",
    "lst = lst.flatten()"
   ]
  },
  {
   "cell_type": "code",
   "execution_count": 58,
   "metadata": {
    "collapsed": true
   },
   "outputs": [],
   "source": [
    "\"\"\"\n",
    "Takes in a numpy array consisting of outputs for our test set and\n",
    "outputs a file in the correct submission format (as per the sample\n",
    "submission file)\n",
    "\"\"\"\n",
    "def make_submission_file(arr, fname = \"submission.txt\"):\n",
    "    f = open(fname, 'w')\n",
    "    f.write(\"Id,Prediction\\n\")\n",
    "    for i in range(len(arr)):\n",
    "        f.write(str(i + 1) + \",\" + str(arr[i]) + '\\n')\n",
    "    f.close()"
   ]
  },
  {
   "cell_type": "code",
   "execution_count": 59,
   "metadata": {
    "collapsed": true
   },
   "outputs": [],
   "source": [
    "make_submission_file(lst)"
   ]
  },
  {
   "cell_type": "code",
   "execution_count": null,
   "metadata": {
    "collapsed": true
   },
   "outputs": [],
   "source": []
  }
 ],
 "metadata": {
  "kernelspec": {
   "display_name": "Python 3",
   "language": "python",
   "name": "python3"
  },
  "language_info": {
   "codemirror_mode": {
    "name": "ipython",
    "version": 3
   },
   "file_extension": ".py",
   "mimetype": "text/x-python",
   "name": "python",
   "nbconvert_exporter": "python",
   "pygments_lexer": "ipython3",
   "version": "3.6.2"
  }
 },
 "nbformat": 4,
 "nbformat_minor": 2
}
