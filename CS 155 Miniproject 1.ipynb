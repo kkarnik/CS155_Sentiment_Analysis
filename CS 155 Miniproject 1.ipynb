{
 "cells": [
  {
   "cell_type": "markdown",
   "metadata": {},
   "source": [
    "# Kaggle Miniproject 1"
   ]
  },
  {
   "cell_type": "markdown",
   "metadata": {},
   "source": [
    "## Team Members:\n",
    "### Karthik Karnik \n",
    "### Kapil Sinha\n",
    "### Anvita Mishra"
   ]
  },
  {
   "cell_type": "code",
   "execution_count": 123,
   "metadata": {},
   "outputs": [],
   "source": [
    "import numpy as np\n",
    "import matplotlib.pyplot as plt\n",
    "\n",
    "\n",
    "from string import punctuation\n",
    "from os import listdir\n",
    "from collections import Counter\n",
    "from nltk.corpus import stopwords\n",
    "from keras.preprocessing.text import Tokenizer\n",
    "from keras.models import Sequential\n",
    "from keras.layers import Dense\n",
    "from keras.layers import Dropout\n",
    "from sklearn import tree\n",
    "from sklearn import base\n",
    "from sklearn.ensemble import RandomForestClassifier"
   ]
  },
  {
   "cell_type": "code",
   "execution_count": 86,
   "metadata": {},
   "outputs": [],
   "source": [
    "with open(\"training_data.txt\") as f:\n",
    "    words = f.readline().split(' ')\n",
    "training_data = np.loadtxt(\"training_data.txt\", skiprows = 1)\n",
    "test_data = np.loadtxt(\"test_data.txt\", skiprows = 1)"
   ]
  },
  {
   "cell_type": "code",
   "execution_count": null,
   "metadata": {
    "collapsed": true
   },
   "outputs": [],
   "source": [
    "x_train = training_data[:, 1:]\n",
    "y_train = training_data[:, 0]"
   ]
  },
  {
   "cell_type": "code",
   "execution_count": 118,
   "metadata": {},
   "outputs": [],
   "source": [
    "x_train = training_data[:16000, 1:]\n",
    "y_train = training_data[:16000, 0]\n",
    "\n",
    "x_val = training_data[16000:, 1:]\n",
    "y_val = training_data[16000:, 0]"
   ]
  },
  {
   "cell_type": "code",
   "execution_count": 109,
   "metadata": {},
   "outputs": [],
   "source": [
    "x_test = test_data"
   ]
  },
  {
   "cell_type": "code",
   "execution_count": 116,
   "metadata": {},
   "outputs": [
    {
     "data": {
      "text/plain": [
       "(16000, 1000)"
      ]
     },
     "execution_count": 116,
     "metadata": {},
     "output_type": "execute_result"
    }
   ],
   "source": [
    "np.shape(x_train)\n"
   ]
  },
  {
   "cell_type": "code",
   "execution_count": 95,
   "metadata": {},
   "outputs": [
    {
     "data": {
      "text/plain": [
       "(10000, 1000)"
      ]
     },
     "execution_count": 95,
     "metadata": {},
     "output_type": "execute_result"
    }
   ],
   "source": [
    "np.shape(x_test)"
   ]
  },
  {
   "cell_type": "code",
   "execution_count": 38,
   "metadata": {},
   "outputs": [
    {
     "name": "stdout",
     "output_type": "stream",
     "text": [
      "Epoch 1/50\n",
      "0s - loss: 0.4055 - acc: 0.8264\n",
      "Epoch 2/50\n",
      "0s - loss: 0.3252 - acc: 0.8638\n",
      "Epoch 3/50\n",
      "0s - loss: 0.2973 - acc: 0.8746\n",
      "Epoch 4/50\n",
      "0s - loss: 0.2690 - acc: 0.8878\n",
      "Epoch 5/50\n",
      "0s - loss: 0.2388 - acc: 0.8999\n",
      "Epoch 6/50\n",
      "1s - loss: 0.2076 - acc: 0.9189\n",
      "Epoch 7/50\n",
      "0s - loss: 0.1746 - acc: 0.9362\n",
      "Epoch 8/50\n",
      "0s - loss: 0.1423 - acc: 0.9501\n",
      "Epoch 9/50\n",
      "0s - loss: 0.1134 - acc: 0.9649\n",
      "Epoch 10/50\n",
      "0s - loss: 0.0870 - acc: 0.9775\n",
      "Epoch 11/50\n",
      "0s - loss: 0.0668 - acc: 0.9845\n",
      "Epoch 12/50\n",
      "0s - loss: 0.0499 - acc: 0.9905\n",
      "Epoch 13/50\n",
      "0s - loss: 0.0369 - acc: 0.9945\n",
      "Epoch 14/50\n",
      "0s - loss: 0.0269 - acc: 0.9969\n",
      "Epoch 15/50\n",
      "0s - loss: 0.0198 - acc: 0.9978\n",
      "Epoch 16/50\n",
      "0s - loss: 0.0140 - acc: 0.9988\n",
      "Epoch 17/50\n",
      "0s - loss: 0.0099 - acc: 0.9992\n",
      "Epoch 18/50\n",
      "0s - loss: 0.0072 - acc: 0.9997\n",
      "Epoch 19/50\n",
      "0s - loss: 0.0058 - acc: 0.9997\n",
      "Epoch 20/50\n",
      "0s - loss: 0.0057 - acc: 0.9997\n",
      "Epoch 21/50\n",
      "0s - loss: 0.0036 - acc: 0.9998\n",
      "Epoch 22/50\n",
      "0s - loss: 0.0022 - acc: 0.9999\n",
      "Epoch 23/50\n",
      "0s - loss: 0.0016 - acc: 0.9999\n",
      "Epoch 24/50\n",
      "0s - loss: 0.0013 - acc: 0.9999\n",
      "Epoch 25/50\n",
      "1s - loss: 0.0012 - acc: 0.9999\n",
      "Epoch 26/50\n",
      "0s - loss: 0.0010 - acc: 0.9999\n",
      "Epoch 27/50\n",
      "0s - loss: 8.3166e-04 - acc: 0.9998\n",
      "Epoch 28/50\n",
      "0s - loss: 7.0452e-04 - acc: 0.9999\n",
      "Epoch 29/50\n",
      "0s - loss: 6.3625e-04 - acc: 0.9999\n",
      "Epoch 30/50\n",
      "0s - loss: 5.3519e-04 - acc: 0.9999\n",
      "Epoch 31/50\n",
      "0s - loss: 0.0036 - acc: 0.9990\n",
      "Epoch 32/50\n",
      "0s - loss: 0.0165 - acc: 0.9949\n",
      "Epoch 33/50\n",
      "0s - loss: 0.0017 - acc: 0.9997\n",
      "Epoch 34/50\n",
      "0s - loss: 7.2212e-04 - acc: 0.9999\n",
      "Epoch 35/50\n",
      "0s - loss: 5.8316e-04 - acc: 0.9999\n",
      "Epoch 36/50\n",
      "0s - loss: 5.5687e-04 - acc: 0.9999\n",
      "Epoch 37/50\n",
      "0s - loss: 4.6867e-04 - acc: 0.9999\n",
      "Epoch 38/50\n",
      "1s - loss: 4.7450e-04 - acc: 0.9999\n",
      "Epoch 39/50\n",
      "0s - loss: 5.2125e-04 - acc: 0.9999\n",
      "Epoch 40/50\n",
      "0s - loss: 4.1413e-04 - acc: 0.9999\n",
      "Epoch 41/50\n",
      "0s - loss: 4.8920e-04 - acc: 0.9999\n",
      "Epoch 42/50\n",
      "0s - loss: 3.8187e-04 - acc: 0.9999\n",
      "Epoch 43/50\n",
      "0s - loss: 3.4045e-04 - acc: 0.9999\n",
      "Epoch 44/50\n",
      "0s - loss: 3.9671e-04 - acc: 0.9999\n",
      "Epoch 45/50\n",
      "0s - loss: 3.5857e-04 - acc: 0.9999\n",
      "Epoch 46/50\n",
      "0s - loss: 4.1048e-04 - acc: 0.9999\n",
      "Epoch 47/50\n",
      "0s - loss: 2.8962e-04 - acc: 0.9999\n",
      "Epoch 48/50\n",
      "0s - loss: 3.5143e-04 - acc: 0.9998\n",
      "Epoch 49/50\n",
      "0s - loss: 2.5593e-04 - acc: 0.9999\n",
      "Epoch 50/50\n",
      "0s - loss: 3.3060e-04 - acc: 0.9999\n"
     ]
    },
    {
     "data": {
      "text/plain": [
       "<keras.callbacks.History at 0x1140bbac8>"
      ]
     },
     "execution_count": 38,
     "metadata": {},
     "output_type": "execute_result"
    }
   ],
   "source": [
    "#n_words = Xtest.shape[1]\n",
    "# define network\n",
    "model = Sequential()\n",
    "model.add(Dense(50, input_shape=(1000, ), activation='relu'))\n",
    "model.add(Dense(1, activation='sigmoid'))\n",
    "model.add(Dense(1, activation='sigmoid'))\n",
    "# compile network\n",
    "model.compile(loss='binary_crossentropy', optimizer='adam', metrics=['accuracy'])\n",
    "# fit network\n",
    "model.fit(x_train, y_train, epochs=50, verbose=2)\n",
    "# evaluate\n",
    "#loss, acc = model.evaluate(Xtest, ytest, verbose=0)\n",
    "#print('Test Accuracy: %f' % (acc*100))"
   ]
  },
  {
   "cell_type": "code",
   "execution_count": 40,
   "metadata": {},
   "outputs": [
    {
     "name": "stdout",
     "output_type": "stream",
     "text": [
      " 6880/10000 [===================>..........] - ETA: 0s"
     ]
    }
   ],
   "source": [
    "predictions = model.predict(test_data, verbose=1)\n"
   ]
  },
  {
   "cell_type": "code",
   "execution_count": 132,
   "metadata": {},
   "outputs": [
    {
     "name": "stdout",
     "output_type": "stream",
     "text": [
      "10000\n"
     ]
    }
   ],
   "source": [
    "#boolList = predictions >= 1\n",
    "lst = np.where(predictions >= 1, 1, 0)\n",
    "lst = lst.flatten()\n",
    "print(len(lst))"
   ]
  },
  {
   "cell_type": "code",
   "execution_count": 58,
   "metadata": {
    "collapsed": true
   },
   "outputs": [],
   "source": [
    "\"\"\"\n",
    "Takes in a numpy array consisting of outputs for our test set and\n",
    "outputs a file in the correct submission format (as per the sample\n",
    "submission file)\n",
    "\"\"\"\n",
    "def make_submission_file(arr, fname = \"submission.txt\"):\n",
    "    f = open(fname, 'w')\n",
    "    f.write(\"Id,Prediction\\n\")\n",
    "    for i in range(len(arr)):\n",
    "        f.write(str(i + 1) + \",\" + str(arr[i]) + '\\n')\n",
    "    f.close()"
   ]
  },
  {
   "cell_type": "code",
   "execution_count": 134,
   "metadata": {
    "collapsed": true
   },
   "outputs": [],
   "source": [
    "make_submission_file(lst)"
   ]
  },
  {
   "cell_type": "code",
   "execution_count": 125,
   "metadata": {},
   "outputs": [],
   "source": [
    "# Random forest model\n",
    "\n",
    "def classification_err(y, real_y):\n",
    "    \"\"\"\n",
    "    This function returns the classification error between two equally-sized vectors of \n",
    "    labels; this is the fraction of samples for which the labels differ.\n",
    "    \n",
    "    Inputs:\n",
    "        y: (N, ) shaped array of predicted labels\n",
    "        real_y: (N, ) shaped array of true labels\n",
    "    Output:\n",
    "        Scalar classification error\n",
    "    \"\"\"\n",
    "    tot_err = 0\n",
    "    \n",
    "    # Count how many samples the labels differ between the two vectors\n",
    "    for i in range(len(y)):\n",
    "        if y[i] != real_y[i]:\n",
    "            tot_err += 1\n",
    "    \n",
    "    # Get the fraction of samples for which the labels differ\n",
    "    classification_error = float(tot_err) / len(y)\n",
    "    \n",
    "    return classification_error\n",
    "    \n",
    "def eval_tree_based_model_max_depth(clf, max_depth, X_train, y_train, X_test, y_test):\n",
    "    \"\"\"\n",
    "    This function evaluates the given classifier (either a decision tree or random forest) at all of the \n",
    "    minimum leaf size parameters in the vector min_samples_leaf, using the given training and testing\n",
    "    data. It returns two vector, with the training and testing classification errors.\n",
    "    \n",
    "    Inputs:\n",
    "        clf: either a decision tree or random forest classifier object\n",
    "        min_samples_leaf: a (T, ) vector of all the min_samples_leaf stopping condition parameters \n",
    "                            to test, where T is the number of parameters to test\n",
    "        X_train: (N, D) matrix of training samples.\n",
    "        y_train: (N, ) vector of training labels.\n",
    "        X_test: (N, D) matrix of test samples\n",
    "        y_test: (N, ) vector of test labels\n",
    "    Output:\n",
    "        train_err: (T, ) vector of classification errors on the training data\n",
    "        test_err: (T, ) vector of classification errors on the test data\n",
    "    \"\"\"\n",
    "    train_err = []\n",
    "    val_err = []\n",
    "    \n",
    "    # Use minimum leaf size parameters to create, train, and test a classifier\n",
    "\n",
    "    # Make a new copy of the classifier, which allows us to \"forget\" about the\n",
    "    # fitting from the previous min_leaf value\n",
    "    for depth in max_depth:\n",
    "        clf_copy = base.clone(clf)\n",
    "        clf_copy.set_params(max_depth=depth)\n",
    "        clf_copy.fit(X_train, y_train)\n",
    "\n",
    "        train_predict = clf_copy.predict(X_train)\n",
    "        test_predict = clf_copy.predict(X_test)\n",
    "\n",
    "        train_err.append(classification_err(train_predict, y_train))\n",
    "        val_err.append(classification_err(test_predict, y_test))\n",
    "\n",
    "    return train_err, val_err\n",
    "\n",
    "\n",
    "\n",
    "n_estimators = 100\n",
    "clf = RandomForestClassifier(n_estimators = n_estimators, criterion = 'gini')\n",
    "\n",
    "max_depth = np.arange(2, 31)\n",
    "\n",
    "train_err, test_err = eval_tree_based_model_max_depth(clf, max_depth, x_train, y_train, x_val, y_val)\n",
    "\n"
   ]
  },
  {
   "cell_type": "code",
   "execution_count": 137,
   "metadata": {},
   "outputs": [
    {
     "name": "stdout",
     "output_type": "stream",
     "text": [
      "[0.066]\n",
      "[ 1.  1.  0. ...,  0.  1.  1.]\n"
     ]
    }
   ],
   "source": [
    "x_train = training_data[:, 1:]\n",
    "y_train = training_data[:, 0]\n",
    "x_test = test_data\n",
    "\n",
    "def random_forest_predict(clf, max_depth, X_train, y_train, X_test):\n",
    "    \"\"\"\n",
    "    This function evaluates the given classifier (either a decision tree or random forest) at all of the \n",
    "    minimum leaf size parameters in the vector min_samples_leaf, using the given training and testing\n",
    "    data. It returns two vector, with the training and testing classification errors.\n",
    "    \n",
    "    Inputs:\n",
    "        clf: either a decision tree or random forest classifier object\n",
    "        min_samples_leaf: a (T, ) vector of all the min_samples_leaf stopping condition parameters \n",
    "                            to test, where T is the number of parameters to test\n",
    "        X_train: (N, D) matrix of training samples.\n",
    "        y_train: (N, ) vector of training labels.\n",
    "        X_test: (N, D) matrix of test samples\n",
    "        y_test: (N, ) vector of test labels\n",
    "    Output:\n",
    "        train_err: (T, ) vector of classification errors on the training data\n",
    "        test_err: (T, ) vector of classification errors on the test data\n",
    "    \"\"\"\n",
    "    train_err = []\n",
    "    val_err = []\n",
    "    \n",
    "    # Use minimum leaf size parameters to create, train, and test a classifier\n",
    "\n",
    "    # Make a new copy of the classifier, which allows us to \"forget\" about the\n",
    "    # fitting from the previous min_leaf value\n",
    "    clf_copy = base.clone(clf)\n",
    "    clf_copy.set_params(max_depth= max_depth)\n",
    "    clf_copy.fit(X_train, y_train)\n",
    "\n",
    "    train_predict = clf_copy.predict(X_train)\n",
    "    test_predict = clf_copy.predict(X_test)\n",
    "\n",
    "    train_err.append(classification_err(train_predict, y_train))\n",
    "\n",
    "    return train_err, test_predict\n",
    "\n",
    "train_err, test_predict = random_forest_predict(clf, 29, x_train, y_train, x_test)\n",
    "\n",
    "print(train_err)\n",
    "\n",
    "print(test_predict)"
   ]
  },
  {
   "cell_type": "code",
   "execution_count": 138,
   "metadata": {},
   "outputs": [
    {
     "data": {
      "text/plain": [
       "array([1, 1, 0, ..., 0, 1, 1])"
      ]
     },
     "execution_count": 138,
     "metadata": {},
     "output_type": "execute_result"
    }
   ],
   "source": [
    "test_predict.astype(int)"
   ]
  },
  {
   "cell_type": "code",
   "execution_count": 126,
   "metadata": {},
   "outputs": [
    {
     "data": {
      "image/png": "[encoded data removed]",
      "text/plain": [
       "<matplotlib.figure.Figure at 0x11f538e10>"
      ]
     },
     "metadata": {},
     "output_type": "display_data"
    },
    {
     "name": "stdout",
     "output_type": "stream",
     "text": [
      "Test error minimized at max_depth = 29\n"
     ]
    }
   ],
   "source": [
    "plt.figure()\n",
    "plt.plot(max_depth, test_err, label='Testing error')\n",
    "plt.plot(max_depth, train_err, label='Training error')\n",
    "plt.xlabel('Maximum Tree Depth')\n",
    "plt.ylabel('Validation error')\n",
    "plt.title('Decision Tree with Gini Impurity and Maximum Tree Depth')\n",
    "plt.legend(loc=0, shadow=True, fontsize='x-large')\n",
    "plt.show()\n",
    "\n",
    "print('Test error minimized at max_depth = %i' % max_depth[np.argmin(test_err)])"
   ]
  },
  {
   "cell_type": "code",
   "execution_count": 139,
   "metadata": {},
   "outputs": [],
   "source": [
    "make_submission_file(test_predict.astype(int))"
   ]
  },
  {
   "cell_type": "code",
   "execution_count": 133,
   "metadata": {},
   "outputs": [
    {
     "name": "stdout",
     "output_type": "stream",
     "text": [
      "10000\n"
     ]
    }
   ],
   "source": [
    "print(len(test_predict))"
   ]
  },
  {
   "cell_type": "code",
   "execution_count": null,
   "metadata": {
    "collapsed": true
   },
   "outputs": [],
   "source": []
  }
 ],
 "metadata": {
  "kernelspec": {
   "display_name": "Python 3",
   "language": "python",
   "name": "python3"
  },
  "language_info": {
   "codemirror_mode": {
    "name": "ipython",
    "version": 3
   },
   "file_extension": ".py",
   "mimetype": "text/x-python",
   "name": "python",
   "nbconvert_exporter": "python",
   "pygments_lexer": "ipython3",
   "version": "3.6.2"
  }
 },
 "nbformat": 4,
 "nbformat_minor": 2
}
